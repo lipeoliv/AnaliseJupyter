{
 "cells": [
  {
   "cell_type": "code",
   "execution_count": null,
   "id": "b767ec62-35cf-41d2-9de7-2983cd6eb840",
   "metadata": {},
   "outputs": [],
   "source": [
    "import pandas as pd"
   ]
  },
  {
   "cell_type": "code",
   "execution_count": 2,
   "id": "d301a0be-447f-421a-ae22-9484ec6f9f7c",
   "metadata": {},
   "outputs": [
    {
     "data": {
      "text/html": [
       "<div>\n",
       "<style scoped>\n",
       "    .dataframe tbody tr th:only-of-type {\n",
       "        vertical-align: middle;\n",
       "    }\n",
       "\n",
       "    .dataframe tbody tr th {\n",
       "        vertical-align: top;\n",
       "    }\n",
       "\n",
       "    .dataframe thead th {\n",
       "        text-align: right;\n",
       "    }\n",
       "</style>\n",
       "<table border=\"1\" class=\"dataframe\">\n",
       "  <thead>\n",
       "    <tr style=\"text-align: right;\">\n",
       "      <th></th>\n",
       "      <th>Regiao - Sigla</th>\n",
       "      <th>Estado - Sigla</th>\n",
       "      <th>Municipio</th>\n",
       "      <th>Revenda</th>\n",
       "      <th>CNPJ da Revenda</th>\n",
       "      <th>Nome da Rua</th>\n",
       "      <th>Numero Rua</th>\n",
       "      <th>Complemento</th>\n",
       "      <th>Bairro</th>\n",
       "      <th>Cep</th>\n",
       "      <th>Produto</th>\n",
       "      <th>Data da Coleta</th>\n",
       "      <th>Valor de Venda</th>\n",
       "      <th>Valor de Compra</th>\n",
       "      <th>Unidade de Medida</th>\n",
       "      <th>Bandeira</th>\n",
       "    </tr>\n",
       "  </thead>\n",
       "  <tbody>\n",
       "    <tr>\n",
       "      <th>0</th>\n",
       "      <td>SE</td>\n",
       "      <td>ES</td>\n",
       "      <td>COLATINA</td>\n",
       "      <td>SAO FRANCISCO DE ASSIS COMERCIO DE COMBUSTIVEI...</td>\n",
       "      <td>08.519.545/0001-10</td>\n",
       "      <td>PRACA FIDELIS FERRARI</td>\n",
       "      <td>35</td>\n",
       "      <td>NaN</td>\n",
       "      <td>LACE</td>\n",
       "      <td>29703-030</td>\n",
       "      <td>GASOLINA ADITIVADA</td>\n",
       "      <td>01/07/2022</td>\n",
       "      <td>7,48</td>\n",
       "      <td>NaN</td>\n",
       "      <td>R$ / litro</td>\n",
       "      <td>VIBRA ENERGIA</td>\n",
       "    </tr>\n",
       "    <tr>\n",
       "      <th>1</th>\n",
       "      <td>SE</td>\n",
       "      <td>ES</td>\n",
       "      <td>COLATINA</td>\n",
       "      <td>SAO FRANCISCO DE ASSIS COMERCIO DE COMBUSTIVEI...</td>\n",
       "      <td>08.519.545/0001-10</td>\n",
       "      <td>PRACA FIDELIS FERRARI</td>\n",
       "      <td>35</td>\n",
       "      <td>NaN</td>\n",
       "      <td>LACE</td>\n",
       "      <td>29703-030</td>\n",
       "      <td>GASOLINA</td>\n",
       "      <td>01/07/2022</td>\n",
       "      <td>7,38</td>\n",
       "      <td>NaN</td>\n",
       "      <td>R$ / litro</td>\n",
       "      <td>VIBRA ENERGIA</td>\n",
       "    </tr>\n",
       "    <tr>\n",
       "      <th>2</th>\n",
       "      <td>SE</td>\n",
       "      <td>ES</td>\n",
       "      <td>COLATINA</td>\n",
       "      <td>POSTO MOTOCAP LTDA</td>\n",
       "      <td>04.814.652/0001-10</td>\n",
       "      <td>PRACA ALMIRANTE BARROSO</td>\n",
       "      <td>52</td>\n",
       "      <td>LETRA A</td>\n",
       "      <td>LACE</td>\n",
       "      <td>29703-055</td>\n",
       "      <td>DIESEL S10</td>\n",
       "      <td>01/07/2022</td>\n",
       "      <td>7,69</td>\n",
       "      <td>NaN</td>\n",
       "      <td>R$ / litro</td>\n",
       "      <td>VIBRA ENERGIA</td>\n",
       "    </tr>\n",
       "    <tr>\n",
       "      <th>3</th>\n",
       "      <td>SE</td>\n",
       "      <td>ES</td>\n",
       "      <td>COLATINA</td>\n",
       "      <td>POSTO MOTOCAP LTDA</td>\n",
       "      <td>04.814.652/0001-10</td>\n",
       "      <td>PRACA ALMIRANTE BARROSO</td>\n",
       "      <td>52</td>\n",
       "      <td>LETRA A</td>\n",
       "      <td>LACE</td>\n",
       "      <td>29703-055</td>\n",
       "      <td>ETANOL</td>\n",
       "      <td>01/07/2022</td>\n",
       "      <td>5,99</td>\n",
       "      <td>NaN</td>\n",
       "      <td>R$ / litro</td>\n",
       "      <td>VIBRA ENERGIA</td>\n",
       "    </tr>\n",
       "    <tr>\n",
       "      <th>4</th>\n",
       "      <td>SE</td>\n",
       "      <td>ES</td>\n",
       "      <td>COLATINA</td>\n",
       "      <td>POSTO MOTOCAP LTDA</td>\n",
       "      <td>04.814.652/0001-10</td>\n",
       "      <td>PRACA ALMIRANTE BARROSO</td>\n",
       "      <td>52</td>\n",
       "      <td>LETRA A</td>\n",
       "      <td>LACE</td>\n",
       "      <td>29703-055</td>\n",
       "      <td>GASOLINA</td>\n",
       "      <td>01/07/2022</td>\n",
       "      <td>7,39</td>\n",
       "      <td>NaN</td>\n",
       "      <td>R$ / litro</td>\n",
       "      <td>VIBRA ENERGIA</td>\n",
       "    </tr>\n",
       "    <tr>\n",
       "      <th>...</th>\n",
       "      <td>...</td>\n",
       "      <td>...</td>\n",
       "      <td>...</td>\n",
       "      <td>...</td>\n",
       "      <td>...</td>\n",
       "      <td>...</td>\n",
       "      <td>...</td>\n",
       "      <td>...</td>\n",
       "      <td>...</td>\n",
       "      <td>...</td>\n",
       "      <td>...</td>\n",
       "      <td>...</td>\n",
       "      <td>...</td>\n",
       "      <td>...</td>\n",
       "      <td>...</td>\n",
       "      <td>...</td>\n",
       "    </tr>\n",
       "    <tr>\n",
       "      <th>378073</th>\n",
       "      <td>S</td>\n",
       "      <td>SC</td>\n",
       "      <td>BLUMENAU</td>\n",
       "      <td>POSTO DE COMBUSTIVEIS MAX LTDA</td>\n",
       "      <td>31.603.614/0001-91</td>\n",
       "      <td>RUA BENJAMIN CONSTANT</td>\n",
       "      <td>1320</td>\n",
       "      <td>NaN</td>\n",
       "      <td>ESCOLA AGRICOLA</td>\n",
       "      <td>89037-500</td>\n",
       "      <td>GASOLINA</td>\n",
       "      <td>30/12/2022</td>\n",
       "      <td>5,04</td>\n",
       "      <td>NaN</td>\n",
       "      <td>R$ / litro</td>\n",
       "      <td>MAXSUL</td>\n",
       "    </tr>\n",
       "    <tr>\n",
       "      <th>378074</th>\n",
       "      <td>S</td>\n",
       "      <td>SC</td>\n",
       "      <td>BLUMENAU</td>\n",
       "      <td>POSTO DE COMBUSTIVEIS MAX LTDA</td>\n",
       "      <td>31.603.614/0001-91</td>\n",
       "      <td>RUA BENJAMIN CONSTANT</td>\n",
       "      <td>1320</td>\n",
       "      <td>NaN</td>\n",
       "      <td>ESCOLA AGRICOLA</td>\n",
       "      <td>89037-500</td>\n",
       "      <td>DIESEL S10</td>\n",
       "      <td>30/12/2022</td>\n",
       "      <td>6,19</td>\n",
       "      <td>NaN</td>\n",
       "      <td>R$ / litro</td>\n",
       "      <td>MAXSUL</td>\n",
       "    </tr>\n",
       "    <tr>\n",
       "      <th>378075</th>\n",
       "      <td>S</td>\n",
       "      <td>SC</td>\n",
       "      <td>BLUMENAU</td>\n",
       "      <td>REDE DE POSTOS R4 LTDA</td>\n",
       "      <td>03.283.593/0006-43</td>\n",
       "      <td>RUA DAS MISSOES</td>\n",
       "      <td>2426</td>\n",
       "      <td>NaN</td>\n",
       "      <td>NOVA ESPERANCA</td>\n",
       "      <td>89051-305</td>\n",
       "      <td>GASOLINA ADITIVADA</td>\n",
       "      <td>30/12/2022</td>\n",
       "      <td>5,31</td>\n",
       "      <td>NaN</td>\n",
       "      <td>R$ / litro</td>\n",
       "      <td>VIBRA ENERGIA</td>\n",
       "    </tr>\n",
       "    <tr>\n",
       "      <th>378076</th>\n",
       "      <td>S</td>\n",
       "      <td>SC</td>\n",
       "      <td>BLUMENAU</td>\n",
       "      <td>REDE DE POSTOS R4 LTDA</td>\n",
       "      <td>03.283.593/0006-43</td>\n",
       "      <td>RUA DAS MISSOES</td>\n",
       "      <td>2426</td>\n",
       "      <td>NaN</td>\n",
       "      <td>NOVA ESPERANCA</td>\n",
       "      <td>89051-305</td>\n",
       "      <td>GASOLINA</td>\n",
       "      <td>30/12/2022</td>\n",
       "      <td>5,11</td>\n",
       "      <td>NaN</td>\n",
       "      <td>R$ / litro</td>\n",
       "      <td>VIBRA ENERGIA</td>\n",
       "    </tr>\n",
       "    <tr>\n",
       "      <th>378077</th>\n",
       "      <td>S</td>\n",
       "      <td>SC</td>\n",
       "      <td>BLUMENAU</td>\n",
       "      <td>FISCHER COMBUSTIVEL EIRELI</td>\n",
       "      <td>31.713.751/0002-60</td>\n",
       "      <td>RUA SETE DE SETEMBRO</td>\n",
       "      <td>780</td>\n",
       "      <td>POSTO</td>\n",
       "      <td>CENTRO</td>\n",
       "      <td>89010-200</td>\n",
       "      <td>GASOLINA</td>\n",
       "      <td>30/12/2022</td>\n",
       "      <td>5,09</td>\n",
       "      <td>NaN</td>\n",
       "      <td>R$ / litro</td>\n",
       "      <td>IPIRANGA</td>\n",
       "    </tr>\n",
       "  </tbody>\n",
       "</table>\n",
       "<p>378078 rows × 16 columns</p>\n",
       "</div>"
      ],
      "text/plain": [
       "       Regiao - Sigla Estado - Sigla Municipio  \\\n",
       "0                  SE             ES  COLATINA   \n",
       "1                  SE             ES  COLATINA   \n",
       "2                  SE             ES  COLATINA   \n",
       "3                  SE             ES  COLATINA   \n",
       "4                  SE             ES  COLATINA   \n",
       "...               ...            ...       ...   \n",
       "378073              S             SC  BLUMENAU   \n",
       "378074              S             SC  BLUMENAU   \n",
       "378075              S             SC  BLUMENAU   \n",
       "378076              S             SC  BLUMENAU   \n",
       "378077              S             SC  BLUMENAU   \n",
       "\n",
       "                                                  Revenda  \\\n",
       "0       SAO FRANCISCO DE ASSIS COMERCIO DE COMBUSTIVEI...   \n",
       "1       SAO FRANCISCO DE ASSIS COMERCIO DE COMBUSTIVEI...   \n",
       "2                                      POSTO MOTOCAP LTDA   \n",
       "3                                      POSTO MOTOCAP LTDA   \n",
       "4                                      POSTO MOTOCAP LTDA   \n",
       "...                                                   ...   \n",
       "378073                     POSTO DE COMBUSTIVEIS MAX LTDA   \n",
       "378074                     POSTO DE COMBUSTIVEIS MAX LTDA   \n",
       "378075                             REDE DE POSTOS R4 LTDA   \n",
       "378076                             REDE DE POSTOS R4 LTDA   \n",
       "378077                         FISCHER COMBUSTIVEL EIRELI   \n",
       "\n",
       "            CNPJ da Revenda              Nome da Rua Numero Rua Complemento  \\\n",
       "0        08.519.545/0001-10    PRACA FIDELIS FERRARI         35         NaN   \n",
       "1        08.519.545/0001-10    PRACA FIDELIS FERRARI         35         NaN   \n",
       "2        04.814.652/0001-10  PRACA ALMIRANTE BARROSO         52     LETRA A   \n",
       "3        04.814.652/0001-10  PRACA ALMIRANTE BARROSO         52     LETRA A   \n",
       "4        04.814.652/0001-10  PRACA ALMIRANTE BARROSO         52     LETRA A   \n",
       "...                     ...                      ...        ...         ...   \n",
       "378073   31.603.614/0001-91    RUA BENJAMIN CONSTANT       1320         NaN   \n",
       "378074   31.603.614/0001-91    RUA BENJAMIN CONSTANT       1320         NaN   \n",
       "378075   03.283.593/0006-43          RUA DAS MISSOES       2426         NaN   \n",
       "378076   03.283.593/0006-43          RUA DAS MISSOES       2426         NaN   \n",
       "378077   31.713.751/0002-60     RUA SETE DE SETEMBRO        780       POSTO   \n",
       "\n",
       "                 Bairro        Cep             Produto Data da Coleta  \\\n",
       "0                  LACE  29703-030  GASOLINA ADITIVADA     01/07/2022   \n",
       "1                  LACE  29703-030            GASOLINA     01/07/2022   \n",
       "2                  LACE  29703-055          DIESEL S10     01/07/2022   \n",
       "3                  LACE  29703-055              ETANOL     01/07/2022   \n",
       "4                  LACE  29703-055            GASOLINA     01/07/2022   \n",
       "...                 ...        ...                 ...            ...   \n",
       "378073  ESCOLA AGRICOLA  89037-500            GASOLINA     30/12/2022   \n",
       "378074  ESCOLA AGRICOLA  89037-500          DIESEL S10     30/12/2022   \n",
       "378075   NOVA ESPERANCA  89051-305  GASOLINA ADITIVADA     30/12/2022   \n",
       "378076   NOVA ESPERANCA  89051-305            GASOLINA     30/12/2022   \n",
       "378077           CENTRO  89010-200            GASOLINA     30/12/2022   \n",
       "\n",
       "       Valor de Venda  Valor de Compra Unidade de Medida       Bandeira  \n",
       "0                7,48              NaN        R$ / litro  VIBRA ENERGIA  \n",
       "1                7,38              NaN        R$ / litro  VIBRA ENERGIA  \n",
       "2                7,69              NaN        R$ / litro  VIBRA ENERGIA  \n",
       "3                5,99              NaN        R$ / litro  VIBRA ENERGIA  \n",
       "4                7,39              NaN        R$ / litro  VIBRA ENERGIA  \n",
       "...               ...              ...               ...            ...  \n",
       "378073           5,04              NaN        R$ / litro         MAXSUL  \n",
       "378074           6,19              NaN        R$ / litro         MAXSUL  \n",
       "378075           5,31              NaN        R$ / litro  VIBRA ENERGIA  \n",
       "378076           5,11              NaN        R$ / litro  VIBRA ENERGIA  \n",
       "378077           5,09              NaN        R$ / litro       IPIRANGA  \n",
       "\n",
       "[378078 rows x 16 columns]"
      ]
     },
     "execution_count": 2,
     "metadata": {},
     "output_type": "execute_result"
    }
   ],
   "source": [
    "\n",
    "dataframe = pd.read_csv('ca-2022-02.csv', sep=';')\n",
    "dataframe\n"
   ]
  },
  {
   "cell_type": "code",
   "execution_count": null,
   "id": "44e0806c-e0e4-46c6-99fb-3d08c6fbd7b1",
   "metadata": {},
   "outputs": [],
   "source": []
  },
  {
   "cell_type": "code",
   "execution_count": 5,
   "id": "ca96de94-e6c0-48f9-917d-6887fa2ce56d",
   "metadata": {},
   "outputs": [
    {
     "data": {
      "text/plain": [
       "Regiao - Sigla            0\n",
       "Estado - Sigla            0\n",
       "Municipio                 0\n",
       "Revenda                   0\n",
       "CNPJ da Revenda           0\n",
       "Nome da Rua               0\n",
       "Numero Rua              176\n",
       "Complemento          296814\n",
       "Bairro                  901\n",
       "Cep                       0\n",
       "Produto                   0\n",
       "Data da Coleta            0\n",
       "Valor de Venda            0\n",
       "Valor de Compra      378078\n",
       "Unidade de Medida         0\n",
       "Bandeira                  0\n",
       "dtype: int64"
      ]
     },
     "execution_count": 5,
     "metadata": {},
     "output_type": "execute_result"
    }
   ],
   "source": [
    "# Usado para contar o número de valores nulos em cada coluna do DataFrame. \n",
    "\n",
    "dataframe.isnull().sum()"
   ]
  },
  {
   "cell_type": "code",
   "execution_count": 3,
   "id": "72300d64-4331-44ce-ae85-7bbb3539d411",
   "metadata": {},
   "outputs": [],
   "source": [
    "#Salvar a lista com dados nulos em uma variável, para depois que tratar os dados verificar se foram substituídos\n",
    "\n",
    "dataframe_nulos = dataframe[dataframe.isnull().T.any()].index"
   ]
  },
  {
   "cell_type": "code",
   "execution_count": 4,
   "id": "bc097f22-58fd-4613-9603-ee8b8e412d15",
   "metadata": {},
   "outputs": [
    {
     "data": {
      "text/plain": [
       "2814      NaN\n",
       "2815      NaN\n",
       "2816      NaN\n",
       "2817      NaN\n",
       "10038     NaN\n",
       "         ... \n",
       "374460    NaN\n",
       "376963    NaN\n",
       "376964    NaN\n",
       "376965    NaN\n",
       "376966    NaN\n",
       "Name: Numero Rua, Length: 176, dtype: object"
      ]
     },
     "execution_count": 4,
     "metadata": {},
     "output_type": "execute_result"
    }
   ],
   "source": [
    "# O código seleciona as linhas em que a coluna 'Numero Rua' possui valores nulos e retorna os valores correspondentes nessa coluna.\n",
    "\n",
    "dataframe.loc[dataframe['Numero Rua'].isnull(), 'Numero Rua']"
   ]
  },
  {
   "cell_type": "code",
   "execution_count": 7,
   "id": "eead7b7e-4f6b-4f27-afa1-583ce609f9be",
   "metadata": {},
   "outputs": [],
   "source": [
    "#Isso atribuirá o valor 'Sem Numero' à coluna 'Numero Rua' nas linhas onde a coluna 'Numero Rua' é nula.\n",
    "\n",
    "dataframe.loc[dataframe['Numero Rua'].isnull(), 'Numero Rua'] = 'Sem Numero'\n"
   ]
  },
  {
   "cell_type": "code",
   "execution_count": 8,
   "id": "347b7ec6-2136-459a-b7e3-13a878321594",
   "metadata": {},
   "outputs": [
    {
     "data": {
      "text/plain": [
       "Regiao - Sigla            0\n",
       "Estado - Sigla            0\n",
       "Municipio                 0\n",
       "Revenda                   0\n",
       "CNPJ da Revenda           0\n",
       "Nome da Rua               0\n",
       "Numero Rua                0\n",
       "Complemento          296814\n",
       "Bairro                  901\n",
       "Cep                       0\n",
       "Produto                   0\n",
       "Data da Coleta            0\n",
       "Valor de Venda            0\n",
       "Valor de Compra      378078\n",
       "Unidade de Medida         0\n",
       "Bandeira                  0\n",
       "dtype: int64"
      ]
     },
     "execution_count": 8,
     "metadata": {},
     "output_type": "execute_result"
    }
   ],
   "source": [
    "#Verificando se foi substituído na tabela\n",
    "\n",
    "dataframe.isnull().sum()"
   ]
  },
  {
   "cell_type": "code",
   "execution_count": 9,
   "id": "7ca90d50-e7dd-42a7-a607-15c53a92ebb2",
   "metadata": {},
   "outputs": [],
   "source": [
    "#Isso atribuirá o valor 'Nao Informado' à coluna ' Bairro' nas linhas onde a coluna Bairro' é nula.\n",
    "\n",
    "\n",
    "dataframe.loc[dataframe['Bairro'].isnull(), 'Bairro'] = 'Nao Informado'\n"
   ]
  },
  {
   "cell_type": "code",
   "execution_count": 10,
   "id": "90fd233d-9bd9-4990-b1a4-acbb7e967b63",
   "metadata": {},
   "outputs": [
    {
     "data": {
      "text/plain": [
       "Regiao - Sigla            0\n",
       "Estado - Sigla            0\n",
       "Municipio                 0\n",
       "Revenda                   0\n",
       "CNPJ da Revenda           0\n",
       "Nome da Rua               0\n",
       "Numero Rua                0\n",
       "Complemento          296814\n",
       "Bairro                    0\n",
       "Cep                       0\n",
       "Produto                   0\n",
       "Data da Coleta            0\n",
       "Valor de Venda            0\n",
       "Valor de Compra      378078\n",
       "Unidade de Medida         0\n",
       "Bandeira                  0\n",
       "dtype: int64"
      ]
     },
     "execution_count": 10,
     "metadata": {},
     "output_type": "execute_result"
    }
   ],
   "source": [
    "#Verificando se foi substituído na tabela\n",
    "\n",
    "dataframe.isnull().sum()"
   ]
  },
  {
   "cell_type": "code",
   "execution_count": 11,
   "id": "dffccced-4ee0-4713-af2b-5331b3352c75",
   "metadata": {},
   "outputs": [],
   "source": [
    "#Isso atribuirá o valor 'Nao Informado'à coluna' Complemento' nas linhas onde a coluna 'Complemento' é nula.\n",
    "\n",
    "\n",
    "dataframe.loc[dataframe['Complemento'].isnull(), 'Complemento'] = 'Nao Informado'\n"
   ]
  },
  {
   "cell_type": "code",
   "execution_count": 13,
   "id": "e84393c0-b121-4455-96f0-5739ce2af0e0",
   "metadata": {},
   "outputs": [
    {
     "data": {
      "text/plain": [
       "Regiao - Sigla            0\n",
       "Estado - Sigla            0\n",
       "Municipio                 0\n",
       "Revenda                   0\n",
       "CNPJ da Revenda           0\n",
       "Nome da Rua               0\n",
       "Numero Rua                0\n",
       "Complemento               0\n",
       "Bairro                    0\n",
       "Cep                       0\n",
       "Produto                   0\n",
       "Data da Coleta            0\n",
       "Valor de Venda            0\n",
       "Valor de Compra      378078\n",
       "Unidade de Medida         0\n",
       "Bandeira                  0\n",
       "dtype: int64"
      ]
     },
     "execution_count": 13,
     "metadata": {},
     "output_type": "execute_result"
    }
   ],
   "source": [
    "#Verificando se foi substituído na tabela\n",
    "\n",
    "dataframe.isnull().sum()"
   ]
  },
  {
   "cell_type": "code",
   "execution_count": 62,
   "id": "c0b7d5b7-d82e-4947-9785-c87484d6a032",
   "metadata": {},
   "outputs": [
    {
     "data": {
      "text/plain": [
       "378078"
      ]
     },
     "execution_count": 62,
     "metadata": {},
     "output_type": "execute_result"
    }
   ],
   "source": [
    "#Isso imprimirá a contagem de valores nulos na coluna 'Valor de Compra'\n",
    "\n",
    "dataframe['Valor de Compra'].isnull().sum()\n"
   ]
  },
  {
   "cell_type": "code",
   "execution_count": 63,
   "id": "b831452c-a372-4cfd-b58b-4ac207b783b4",
   "metadata": {},
   "outputs": [
    {
     "data": {
      "text/plain": [
       "378078"
      ]
     },
     "execution_count": 63,
     "metadata": {},
     "output_type": "execute_result"
    }
   ],
   "source": [
    "#sso imprimirá o número total de linhas no seu DataFrame\n",
    "\n",
    "dataframe.shape[0]"
   ]
  },
  {
   "cell_type": "code",
   "execution_count": 61,
   "id": "e97af790-c0cd-4798-a958-d38b16b14ee5",
   "metadata": {},
   "outputs": [
    {
     "data": {
      "text/plain": [
       "378078"
      ]
     },
     "execution_count": 61,
     "metadata": {},
     "output_type": "execute_result"
    }
   ],
   "source": [
    "dataframe.shape[0]"
   ]
  },
  {
   "cell_type": "markdown",
   "id": "ef3b845f-2480-47f9-8187-187018f921e5",
   "metadata": {},
   "source": [
    "# A Coluna 'Valor de Compra' foi excluída pois só existe números nulos nela"
   ]
  },
  {
   "cell_type": "code",
   "execution_count": 64,
   "id": "55a61c30-dcbf-4d29-a1b5-41ce01429a33",
   "metadata": {},
   "outputs": [],
   "source": [
    "del dataframe['Valor de Compra']\n"
   ]
  },
  {
   "cell_type": "markdown",
   "id": "5485d231-dd19-4b30-b260-b445b5adfb0d",
   "metadata": {},
   "source": [
    "# Nenhum dado nulo, Podemos começar a análise!"
   ]
  },
  {
   "cell_type": "code",
   "execution_count": 65,
   "id": "64cb98a6-aeed-425f-83a9-551e958f8bee",
   "metadata": {},
   "outputs": [
    {
     "data": {
      "text/plain": [
       "Regiao - Sigla       0\n",
       "Estado - Sigla       0\n",
       "Municipio            0\n",
       "Revenda              0\n",
       "CNPJ da Revenda      0\n",
       "Nome da Rua          0\n",
       "Numero Rua           0\n",
       "Complemento          0\n",
       "Bairro               0\n",
       "Cep                  0\n",
       "Produto              0\n",
       "Data da Coleta       0\n",
       "Valor de Venda       0\n",
       "Unidade de Medida    0\n",
       "Bandeira             0\n",
       "dtype: int64"
      ]
     },
     "execution_count": 65,
     "metadata": {},
     "output_type": "execute_result"
    }
   ],
   "source": [
    "dataframe.isnull().sum()"
   ]
  },
  {
   "cell_type": "code",
   "execution_count": null,
   "id": "848e8b05-35f8-489a-9117-dd360eb6b91b",
   "metadata": {},
   "outputs": [],
   "source": [
    " "
   ]
  }
 ],
 "metadata": {
  "kernelspec": {
   "display_name": "Python 3 (ipykernel)",
   "language": "python",
   "name": "python3"
  },
  "language_info": {
   "codemirror_mode": {
    "name": "ipython",
    "version": 3
   },
   "file_extension": ".py",
   "mimetype": "text/x-python",
   "name": "python",
   "nbconvert_exporter": "python",
   "pygments_lexer": "ipython3",
   "version": "3.10.8"
  }
 },
 "nbformat": 4,
 "nbformat_minor": 5
}
