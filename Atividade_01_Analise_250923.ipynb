{
 "cells": [
  {
   "cell_type": "markdown",
   "id": "3b908774",
   "metadata": {},
   "source": [
    "# Atividade - 25/09/23"
   ]
  },
  {
   "cell_type": "markdown",
   "id": "5776e5be",
   "metadata": {},
   "source": [
    "Documentação Numpy: https://numpy.org/doc/stable/\n",
    "\n",
    "Enviar este arquivo preenchido com o nome do aluno para o e-mail: profbrunorespostas1@gmail.com e assunto: AD2301"
   ]
  },
  {
   "cell_type": "code",
   "execution_count": 1,
   "id": "4b829a95",
   "metadata": {},
   "outputs": [
    {
     "name": "stdout",
     "output_type": "stream",
     "text": [
      "Luiz Felipe Silva de Oliveira\n"
     ]
    }
   ],
   "source": [
    "#Substituir nome do aluno aqui\n",
    "print(\"Luiz Felipe Silva de Oliveira\")"
   ]
  },
  {
   "cell_type": "markdown",
   "id": "36dec32b",
   "metadata": {},
   "source": [
    "### Questão 1:\n",
    "Pesquisar na documentação da biblioteca numpy por propriedades e funções disponíveis para manipulação de Array de 1 dimensão (1darray) que não foram vistas em sala de aula. Citar cada uma delas com a explicação em forma de comentário e um exemplo.\n",
    "\n",
    "Arquivo da aula sobre numpy: https://github.com/brunogomesifrn/respostas_ifrn/blob/main/python/Aulas/2023/numpy.ipynb"
   ]
  },
  {
   "cell_type": "markdown",
   "id": "b515d917",
   "metadata": {},
   "source": [
    "#### Propriedades - 1darray"
   ]
  },
  {
   "cell_type": "code",
   "execution_count": 6,
   "id": "a97fb37a-c9e4-4dff-8df9-27a4b0ca370a",
   "metadata": {},
   "outputs": [],
   "source": [
    "# Importando bibliotea\n",
    "\n",
    "import numpy as np"
   ]
  },
  {
   "cell_type": "code",
   "execution_count": 10,
   "id": "ad48eaa6",
   "metadata": {},
   "outputs": [
    {
     "data": {
      "text/plain": [
       "array([0., 0., 0., 0., 0., 0., 0., 0., 0., 0.])"
      ]
     },
     "execution_count": 10,
     "metadata": {},
     "output_type": "execute_result"
    }
   ],
   "source": [
    "# A função 'zeros' cria um array a parti de uma sequência de elementos determinada através do parêntesses ().\n",
    "\n",
    "np.zeros(10)"
   ]
  },
  {
   "cell_type": "code",
   "execution_count": 14,
   "id": "57047d70",
   "metadata": {},
   "outputs": [
    {
     "data": {
      "text/plain": [
       "array([1., 1., 1., 1., 1.])"
      ]
     },
     "execution_count": 14,
     "metadata": {},
     "output_type": "execute_result"
    }
   ],
   "source": [
    "# A função 'ones' cria um array a parti de uma sequência de elementos determinada através do parêntesses ().\n",
    "\n",
    "\n",
    "np.ones(5)\n"
   ]
  },
  {
   "cell_type": "markdown",
   "id": "1dcf6129",
   "metadata": {},
   "source": [
    "#### Funções - 1darray"
   ]
  },
  {
   "cell_type": "code",
   "execution_count": 18,
   "id": "49c18a21",
   "metadata": {},
   "outputs": [
    {
     "data": {
      "text/plain": [
       "array([ 1,  2,  3,  4,  5,  6,  7,  8,  5,  6,  7,  8,  5,  6,  7, 10])"
      ]
     },
     "execution_count": 18,
     "metadata": {},
     "output_type": "execute_result"
    }
   ],
   "source": [
    "# Função 'concatenate' concatena dois ou mais arrays em um único array.\n",
    "\n",
    "\n",
    "a = np.array([1, 2, 3, 4])\n",
    "b = np.array([5, 6, 7, 8])\n",
    "c = np.array([5, 6, 7, 8])\n",
    "d = np.array([5, 6, 7, 10])\n",
    "\n",
    "np.concatenate((a, b, c, d ))"
   ]
  },
  {
   "cell_type": "code",
   "execution_count": 52,
   "id": "a53ccf3c",
   "metadata": {},
   "outputs": [
    {
     "data": {
      "text/plain": [
       "(1, 6)"
      ]
     },
     "execution_count": 52,
     "metadata": {},
     "output_type": "execute_result"
    }
   ],
   "source": [
    "# A função 'np.newaxis' aumentará as dimensões do seu array em uma dimensão quando usado uma vez\n",
    "\n",
    "a = np.array([1, 2, 3, 4, 5, 6])\n",
    "\n",
    "a2 = a[np.newaxis, :] \n",
    "a2.shape\n"
   ]
  },
  {
   "cell_type": "markdown",
   "id": "4ed71dd7",
   "metadata": {},
   "source": [
    "### Questão 2\n",
    "Crie um exemplo de criação de um array de 2 dimensões (2darray)."
   ]
  },
  {
   "cell_type": "code",
   "execution_count": 53,
   "id": "b5fe53dc",
   "metadata": {},
   "outputs": [
    {
     "data": {
      "text/plain": [
       "array([[1, 1],\n",
       "       [2, 2],\n",
       "       [3, 3],\n",
       "       [4, 4]])"
      ]
     },
     "execution_count": 53,
     "metadata": {},
     "output_type": "execute_result"
    }
   ],
   "source": [
    "# Função 'vstack' empilhá os array verticalmente \n",
    "\n",
    "\n",
    "a1 = np.array([[1, 1],\n",
    "               [2, 2]])\n",
    "\n",
    "a2 = np.array([[3, 3],\n",
    "               [4, 4]])\n",
    "\n",
    "np.vstack((a1, a2))"
   ]
  },
  {
   "cell_type": "markdown",
   "id": "e979093d",
   "metadata": {},
   "source": [
    "### Questão 3\n",
    "Cite funções disponíveis no numpy que criam array de duas dimenões (2darray) já preenchido de forma automática."
   ]
  },
  {
   "cell_type": "code",
   "execution_count": 62,
   "id": "ee11cf0a",
   "metadata": {},
   "outputs": [
    {
     "name": "stdout",
     "output_type": "stream",
     "text": [
      "[[0. 0. 0. 0.]\n",
      " [0. 0. 0. 0.]\n",
      " [0. 0. 0. 0.]]\n"
     ]
    }
   ],
   "source": [
    "# A função 'zeros' cria um array a parti de uma sequência de elementos determinada através do parêntesses ().\n",
    "\n",
    "\n",
    "zero_array = np.zeros((3, 4))\n",
    "\n",
    "print(zero_array)\n"
   ]
  },
  {
   "cell_type": "code",
   "execution_count": 64,
   "id": "38175192",
   "metadata": {},
   "outputs": [
    {
     "name": "stdout",
     "output_type": "stream",
     "text": [
      "[[[1. 1. 1. 1.]\n",
      "  [1. 1. 1. 1.]\n",
      "  [1. 1. 1. 1.]]\n",
      "\n",
      " [[1. 1. 1. 1.]\n",
      "  [1. 1. 1. 1.]\n",
      "  [1. 1. 1. 1.]]]\n"
     ]
    }
   ],
   "source": [
    "# A função 'ones' cria um array a parti de uma sequência de elementos determinada através do parêntesses ().\n",
    "\n",
    "ones_array = np.ones((2, 3,4))\n",
    "print(ones_array)"
   ]
  },
  {
   "cell_type": "code",
   "execution_count": null,
   "id": "a4489dde-43c6-4c46-b848-1dedf90cd4e2",
   "metadata": {},
   "outputs": [],
   "source": []
  }
 ],
 "metadata": {
  "kernelspec": {
   "display_name": "Python 3 (ipykernel)",
   "language": "python",
   "name": "python3"
  },
  "language_info": {
   "codemirror_mode": {
    "name": "ipython",
    "version": 3
   },
   "file_extension": ".py",
   "mimetype": "text/x-python",
   "name": "python",
   "nbconvert_exporter": "python",
   "pygments_lexer": "ipython3",
   "version": "3.10.8"
  }
 },
 "nbformat": 4,
 "nbformat_minor": 5
}
