{
 "cells": [
  {
   "cell_type": "markdown",
   "id": "e4b6911d-4a5b-427e-8727-c802773b9baf",
   "metadata": {},
   "source": [
    "Lista de dados\n",
    "- Estrutura que permite agrupar vários valores\n",
    "- Permite agrupar valores de tipos diferentes em uma mesma estrutura\n",
    "- Utiliza colchetes [] \n"
   ]
  },
  {
   "cell_type": "code",
   "execution_count": null,
   "id": "c2c19454-15e0-4068-b30b-6bc2ae2bf3c7",
   "metadata": {},
   "outputs": [],
   "source": [
    "#Criando uma lista \n",
    "\n",
    "lista_1 = [1, 6, 10, 20]\n",
    "lista_2 = [4.5, 3.1, 5.0]\n",
    "lista_3 = ['nota1', 'nota2']\n",
    "lista_4 = [True, False, False]\n",
    "lista_5 = [4, 'nota1', 2.5, False]\n",
    "lista_6 = [1, 6, 10, 20]\n"
   ]
  },
  {
   "cell_type": "markdown",
   "id": "ac55b939-b530-49de-ab66-baa5b37133d0",
   "metadata": {},
   "source": [
    "A estrutura utiliza as posições para armazenar e localizar os elementos\n",
    "Primeira posição sempre é 0"
   ]
  },
  {
   "cell_type": "code",
   "execution_count": 1,
   "id": "9b2a0261-b9db-48f2-b6dc-94b2c1f13dc5",
   "metadata": {},
   "outputs": [
    {
     "name": "stdout",
     "output_type": "stream",
     "text": [
      "6\n"
     ]
    }
   ],
   "source": [
    "# Associando um valor a cada lista\n",
    "lista_1 = [1, 6, 10, 20]\n",
    "print(lista_1[1])"
   ]
  },
  {
   "cell_type": "code",
   "execution_count": null,
   "id": "2c0d2476-73ac-468e-a35c-8968a1a75bc4",
   "metadata": {},
   "outputs": [],
   "source": [
    "lista_6 = [5, 3, [5, 2, 1]]\n",
    "print(lista_6[2])"
   ]
  },
  {
   "cell_type": "code",
   "execution_count": null,
   "id": "a225697c-5dac-43a9-8ae5-69226814e287",
   "metadata": {},
   "outputs": [],
   "source": [
    "print(lista_6[2][1])"
   ]
  },
  {
   "cell_type": "code",
   "execution_count": null,
   "id": "84e61dd3-5512-4acb-8623-b4c260764b48",
   "metadata": {},
   "outputs": [],
   "source": [
    "lista_1 = [1, 6, 10, 20]\n",
    "lista_2 = [4.5, 3.1, 5.0]\n",
    "lista_juncao = lista_1 + lista_2\n",
    "print(lista_juncao)"
   ]
  },
  {
   "cell_type": "code",
   "execution_count": 2,
   "id": "24aa28fe-5e3e-4009-a2f5-0312d9b3cd01",
   "metadata": {},
   "outputs": [
    {
     "name": "stdout",
     "output_type": "stream",
     "text": [
      "[1, 6, 10, 20, 4.5, 3.1, 5.0]\n"
     ]
    }
   ],
   "source": [
    "#Tamanho da lista - função len()\n",
    "lista_1 = [1, 6, 10, 20]\n",
    "print(len(lista_1))"
   ]
  },
  {
   "cell_type": "code",
   "execution_count": null,
   "id": "2a86b442-fafd-4888-92af-ae6fbb49b73a",
   "metadata": {},
   "outputs": [],
   "source": [
    "#Somar todos os elementos da lista - função sum()\n",
    "print(sum(lista_1))"
   ]
  },
  {
   "cell_type": "code",
   "execution_count": null,
   "id": "43fa1935-4151-415d-91b4-f0a20bb99d4e",
   "metadata": {},
   "outputs": [],
   "source": [
    "#Substituir um elemento da lista, se usa colchetes\n",
    "lista_1 = [1, 6, 10, 20]\n",
    "lista_1[1] = 15\n",
    "print(lista_1)"
   ]
  },
  {
   "cell_type": "code",
   "execution_count": null,
   "id": "4e2d5d10-c987-42cc-824e-fdd80f5e5354",
   "metadata": {},
   "outputs": [],
   "source": [
    "#Adicionando um elemento à lista - função append()\n",
    "lista_1 = [1, 6, 10, 20]\n",
    "lista_1.append(15)\n",
    "print(lista_1)"
   ]
  },
  {
   "cell_type": "code",
   "execution_count": null,
   "id": "f0944f79-4609-47a4-bb44-0ec1f721ab9a",
   "metadata": {},
   "outputs": [],
   "source": [
    "#Inserindo um novo elemento em uma posição específica - função insert()\n",
    "lista_1 = [1, 6, 10, 20]\n",
    "lista_1.insert(2, 50)\n",
    "print(lista_1)"
   ]
  },
  {
   "cell_type": "code",
   "execution_count": null,
   "id": "ee039540-7334-43ac-b7b7-e1b290206eee",
   "metadata": {},
   "outputs": [],
   "source": [
    "#Retornando a posição de um elemento - função index()\n",
    "lista_1 = [1, 6, 10, 20]\n",
    "print(lista_1.index(10))"
   ]
  },
  {
   "cell_type": "code",
   "execution_count": null,
   "id": "f3305cf9-b08b-4ca9-b20b-e59090461493",
   "metadata": {},
   "outputs": [],
   "source": [
    "#Invertendo a ordem dos elementos da lista - função reverse()\n",
    "lista_1 = [1, 6, 10, 20]\n",
    "lista_1.reverse()\n",
    "print(lista_1)"
   ]
  },
  {
   "cell_type": "code",
   "execution_count": null,
   "id": "61719785-a6e9-4c42-9a47-01f8ddffb3d4",
   "metadata": {},
   "outputs": [],
   "source": [
    "#Ordenar a ordem da lista - função sort()\n",
    "lista_1 = [11, 6, 2, 20]\n",
    "lista_1.sort()\n",
    "print(lista_1)"
   ]
  },
  {
   "cell_type": "markdown",
   "id": "e8985790-6186-4ac2-9cb4-c8903a3e3b66",
   "metadata": {},
   "source": [
    "TUPLAS\n",
    "\n",
    "Estrutura semelhante a lista, mas não pode ser alterada (imutável)\n",
    "Utiliza parênteses para definir"
   ]
  },
  {
   "cell_type": "code",
   "execution_count": null,
   "id": "5c135ba0-943a-49d4-8772-8fe25580408f",
   "metadata": {},
   "outputs": [],
   "source": [
    "tupla_1 = (\"Segunda\", \"Terça\", \"Quarta\")"
   ]
  },
  {
   "cell_type": "code",
   "execution_count": null,
   "id": "d9eca9b7-ea34-45b1-93e4-c308fb426390",
   "metadata": {},
   "outputs": [],
   "source": [
    "#Para acessar um elemento utiliza colchetes\n",
    "tupla_1 = (\"Segunda\", \"Terça\", \"Quarta\")\n",
    "print(tupla_1[0])"
   ]
  },
  {
   "cell_type": "code",
   "execution_count": null,
   "id": "ace7f5a4-5ac9-49c7-a32f-d2569b803945",
   "metadata": {},
   "outputs": [],
   "source": [
    "#Não é possível alterar qualquer valor da tupla, dispara um erro\n",
    "tupla_1[1] = \"Quarta\""
   ]
  },
  {
   "cell_type": "code",
   "execution_count": null,
   "id": "a043fec7-bd17-498a-b1dc-cb101156740a",
   "metadata": {},
   "outputs": [],
   "source": [
    "#Convertendo uma tupla em lista - utiliza a função list()\n",
    "tupla_1 = (\"Segunda\", \"Terça\", \"Quarta\")\n",
    "lista_resultado = list(tupla_1)\n",
    "print(lista_resultado)"
   ]
  },
  {
   "cell_type": "markdown",
   "id": "01113bd4-b6b0-45a5-9b64-c56d0a345bd8",
   "metadata": {},
   "source": [
    "Dicionários de dados\n",
    "- Estrutura de dados composta por chaves e valores\n",
    "- utiliza chaves {} para a criação"
   ]
  },
  {
   "cell_type": "code",
   "execution_count": null,
   "id": "cd04e2be-8cf8-4a41-9af6-0e08e9d82915",
   "metadata": {},
   "outputs": [],
   "source": []
  }
 ],
 "metadata": {
  "kernelspec": {
   "display_name": "Python 3 (ipykernel)",
   "language": "python",
   "name": "python3"
  },
  "language_info": {
   "codemirror_mode": {
    "name": "ipython",
    "version": 3
   },
   "file_extension": ".py",
   "mimetype": "text/x-python",
   "name": "python",
   "nbconvert_exporter": "python",
   "pygments_lexer": "ipython3",
   "version": "3.10.8"
  }
 },
 "nbformat": 4,
 "nbformat_minor": 5
}
