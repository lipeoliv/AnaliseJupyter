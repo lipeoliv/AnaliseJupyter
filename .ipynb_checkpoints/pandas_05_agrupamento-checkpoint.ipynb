{
 "cells": [
  {
   "cell_type": "markdown",
   "id": "f836b124-f3df-4fa0-bef1-fb4c57bfeabf",
   "metadata": {},
   "source": [
    "Função de Agrupamento"
   ]
  },
  {
   "cell_type": "code",
   "execution_count": 1,
   "id": "d3085f50-6ea1-4aba-a94a-15516eeadd6a",
   "metadata": {},
   "outputs": [],
   "source": [
    "import pandas as pd"
   ]
  },
  {
   "cell_type": "code",
   "execution_count": 4,
   "id": "4e3f296b-2927-4553-a748-46bba2775119",
   "metadata": {},
   "outputs": [
    {
     "data": {
      "text/html": [
       "<div>\n",
       "<style scoped>\n",
       "    .dataframe tbody tr th:only-of-type {\n",
       "        vertical-align: middle;\n",
       "    }\n",
       "\n",
       "    .dataframe tbody tr th {\n",
       "        vertical-align: top;\n",
       "    }\n",
       "\n",
       "    .dataframe thead th {\n",
       "        text-align: right;\n",
       "    }\n",
       "</style>\n",
       "<table border=\"1\" class=\"dataframe\">\n",
       "  <thead>\n",
       "    <tr style=\"text-align: right;\">\n",
       "      <th></th>\n",
       "      <th>loja</th>\n",
       "      <th>Cliente</th>\n",
       "      <th>Valor</th>\n",
       "    </tr>\n",
       "  </thead>\n",
       "  <tbody>\n",
       "    <tr>\n",
       "      <th>0</th>\n",
       "      <td>L1</td>\n",
       "      <td>Raniere</td>\n",
       "      <td>500.0</td>\n",
       "    </tr>\n",
       "    <tr>\n",
       "      <th>1</th>\n",
       "      <td>L2</td>\n",
       "      <td>Ed</td>\n",
       "      <td>150.0</td>\n",
       "    </tr>\n",
       "    <tr>\n",
       "      <th>2</th>\n",
       "      <td>L1</td>\n",
       "      <td>Pedro</td>\n",
       "      <td>140.0</td>\n",
       "    </tr>\n",
       "    <tr>\n",
       "      <th>3</th>\n",
       "      <td>L3</td>\n",
       "      <td>Raniere</td>\n",
       "      <td>233.0</td>\n",
       "    </tr>\n",
       "    <tr>\n",
       "      <th>4</th>\n",
       "      <td>L2</td>\n",
       "      <td>Raniere</td>\n",
       "      <td>30.0</td>\n",
       "    </tr>\n",
       "    <tr>\n",
       "      <th>5</th>\n",
       "      <td>L1</td>\n",
       "      <td>Matheus</td>\n",
       "      <td>150.0</td>\n",
       "    </tr>\n",
       "  </tbody>\n",
       "</table>\n",
       "</div>"
      ],
      "text/plain": [
       "  loja  Cliente  Valor\n",
       "0   L1  Raniere  500.0\n",
       "1   L2       Ed  150.0\n",
       "2   L1    Pedro  140.0\n",
       "3   L3  Raniere  233.0\n",
       "4   L2  Raniere   30.0\n",
       "5   L1  Matheus  150.0"
      ]
     },
     "execution_count": 4,
     "metadata": {},
     "output_type": "execute_result"
    }
   ],
   "source": [
    "vendas = {\n",
    "    'loja': ['L1','L2','L1','L3','L2','L1'],\n",
    "    'Cliente' : ['Raniere', 'Ed', 'Pedro', 'Raniere','Raniere','Matheus'],\n",
    "    'Valor' : [500.00,150.00,140.00,233.00,30.00,150.00]\n",
    "}\n",
    "dataframe_vendas = pd.DataFrame(vendas)\n",
    "dataframe_vendas\n"
   ]
  },
  {
   "cell_type": "markdown",
   "id": "e9893f38-8196-4f1f-bbae-80c67101b2ab",
   "metadata": {},
   "source": [
    "## Função groupby()"
   ]
  },
  {
   "cell_type": "code",
   "execution_count": 9,
   "id": "6dca9a58-bd96-4f4c-8d87-5f3716489dba",
   "metadata": {},
   "outputs": [
    {
     "data": {
      "text/plain": [
       "loja\n",
       "L1    3\n",
       "L2    2\n",
       "L3    1\n",
       "Name: loja, dtype: int64"
      ]
     },
     "execution_count": 9,
     "metadata": {},
     "output_type": "execute_result"
    }
   ],
   "source": [
    "# Quantas vendas por loja foram feitas\n",
    "\n",
    "dataframe_vendas.groupby('loja')['loja'].count()"
   ]
  },
  {
   "cell_type": "code",
   "execution_count": 13,
   "id": "87183b33-7278-42f2-ab39-8052dddeeca7",
   "metadata": {},
   "outputs": [
    {
     "data": {
      "text/plain": [
       "1203.0"
      ]
     },
     "execution_count": 13,
     "metadata": {},
     "output_type": "execute_result"
    }
   ],
   "source": [
    "dataframe_vendas['Valor'].sum()"
   ]
  },
  {
   "cell_type": "code",
   "execution_count": 15,
   "id": "3c91df4d-1082-4158-842b-7056f0ef0100",
   "metadata": {},
   "outputs": [
    {
     "data": {
      "text/plain": [
       "loja\n",
       "L1    3\n",
       "Name: loja, dtype: int64"
      ]
     },
     "execution_count": 15,
     "metadata": {},
     "output_type": "execute_result"
    }
   ],
   "source": [
    "# Quantas vendas foram realizadas pela loja L1\n",
    "\n",
    "dataframe_vendas[dataframe_vendas.loja == 'L1'].groupby('loja')['loja'].count()"
   ]
  },
  {
   "cell_type": "code",
   "execution_count": 17,
   "id": "068adcfe-2087-4c77-88fd-80930f4edd63",
   "metadata": {},
   "outputs": [
    {
     "data": {
      "text/plain": [
       "Cliente\n",
       "Ed         1\n",
       "Matheus    1\n",
       "Pedro      1\n",
       "Raniere    3\n",
       "Name: Cliente, dtype: int64"
      ]
     },
     "execution_count": 17,
     "metadata": {},
     "output_type": "execute_result"
    }
   ],
   "source": [
    "# Quantas vendas foram realizadas por cada cliente\n",
    "\n",
    "dataframe_vendas.groupby('Cliente')['Cliente'].count()"
   ]
  },
  {
   "cell_type": "code",
   "execution_count": 24,
   "id": "00f4f5c9-7bcf-4c50-b3a5-a20fc2e65399",
   "metadata": {},
   "outputs": [
    {
     "data": {
      "text/plain": [
       "loja  Cliente\n",
       "L1    Matheus    1\n",
       "      Pedro      1\n",
       "      Raniere    1\n",
       "L2    Ed         1\n",
       "      Raniere    1\n",
       "L3    Raniere    1\n",
       "Name: Cliente, dtype: int64"
      ]
     },
     "execution_count": 24,
     "metadata": {},
     "output_type": "execute_result"
    }
   ],
   "source": [
    "# Por loja, quais clientes e quantas compras cada um realizou\n",
    "\n",
    "dataframe_vendas.groupby(['loja', 'Cliente']) ['Cliente'].count()"
   ]
  },
  {
   "cell_type": "code",
   "execution_count": 26,
   "id": "b442cdfd-e6c3-4c3c-806d-db0c960734c8",
   "metadata": {},
   "outputs": [
    {
     "data": {
      "text/plain": [
       "loja\n",
       "L1    790.0\n",
       "L2    180.0\n",
       "L3    233.0\n",
       "Name: Valor, dtype: float64"
      ]
     },
     "execution_count": 26,
     "metadata": {},
     "output_type": "execute_result"
    }
   ],
   "source": [
    "# Qual o valor de todas as vendas por loja\n",
    "\n",
    "dataframe_vendas.groupby(['loja']) ['Valor'].sum()\n"
   ]
  },
  {
   "cell_type": "code",
   "execution_count": 27,
   "id": "ac62bad0-f088-426d-8569-dab1678a8ba5",
   "metadata": {},
   "outputs": [
    {
     "data": {
      "text/plain": [
       "loja\n",
       "L1    790.0\n",
       "L3    233.0\n",
       "L2    180.0\n",
       "Name: Valor, dtype: float64"
      ]
     },
     "execution_count": 27,
     "metadata": {},
     "output_type": "execute_result"
    }
   ],
   "source": [
    "'''\n",
    "Usando o exemplo anterior, ordenar \n",
    "da loja que mais vendeu para a que menos vendeu\n",
    "'''\n",
    "\n",
    "dataframe_vendas.groupby('loja')['Valor'].sum().sort_values(ascending=False)"
   ]
  },
  {
   "cell_type": "code",
   "execution_count": 28,
   "id": "847223c8-b305-4c69-ac6d-3724e1332a07",
   "metadata": {},
   "outputs": [
    {
     "data": {
      "text/plain": [
       "loja\n",
       "L1    790.0\n",
       "L3    233.0\n",
       "Name: Valor, dtype: float64"
      ]
     },
     "execution_count": 28,
     "metadata": {},
     "output_type": "execute_result"
    }
   ],
   "source": [
    "'''\n",
    "Usando o exemplo, exibir apenas as 2 lojas que mais venderam\n",
    "'''\n",
    "\n",
    "dataframe_vendas.groupby('loja')['Valor'].sum().sort_values(ascending=False).head(2)"
   ]
  },
  {
   "cell_type": "code",
   "execution_count": 31,
   "id": "b13e466f-7a6b-44d4-84e7-4a7424e520e4",
   "metadata": {},
   "outputs": [
    {
     "data": {
      "text/plain": [
       "Cliente\n",
       "Ed         150.0\n",
       "Matheus    150.0\n",
       "Pedro      140.0\n",
       "Raniere    763.0\n",
       "Name: Valor, dtype: float64"
      ]
     },
     "execution_count": 31,
     "metadata": {},
     "output_type": "execute_result"
    }
   ],
   "source": [
    "# Qual valor total gasto nas comprarss por cliente\n",
    "\n",
    "\n",
    "dataframe_vendas.groupby('Cliente')['Valor'].sum()"
   ]
  },
  {
   "cell_type": "code",
   "execution_count": 36,
   "id": "f702112c-af0b-4735-9835-c9565a4fd5ec",
   "metadata": {},
   "outputs": [
    {
     "data": {
      "text/plain": [
       "Cliente\n",
       "Raniere    763.0\n",
       "Ed         150.0\n",
       "Matheus    150.0\n",
       "Pedro      140.0\n",
       "Name: Valor, dtype: float64"
      ]
     },
     "execution_count": 36,
     "metadata": {},
     "output_type": "execute_result"
    }
   ],
   "source": [
    "'''\n",
    "Utilizando o exemplo anterior, ordenar \n",
    "do que menos comprou para o que mais comprou\n",
    "'''\n",
    "\n",
    "dataframe_vendas.groupby('Cliente')['Valor'].sum().sort_values(ascending=False)"
   ]
  },
  {
   "cell_type": "code",
   "execution_count": 46,
   "id": "e394c802-b129-4881-b57e-a42e9ad0d91f",
   "metadata": {},
   "outputs": [
    {
     "data": {
      "text/plain": [
       "Cliente\n",
       "Ed         150.000000\n",
       "Matheus    150.000000\n",
       "Pedro      140.000000\n",
       "Raniere    254.333333\n",
       "Name: Valor, dtype: float64"
      ]
     },
     "execution_count": 46,
     "metadata": {},
     "output_type": "execute_result"
    }
   ],
   "source": [
    "# Exibir a média do valor gasto por cada Cliente\n",
    "\n",
    "dataframe_vendas.groupby('Cliente')['Valor'].mean()"
   ]
  },
  {
   "cell_type": "code",
   "execution_count": null,
   "id": "f5df02b2-7507-4bc2-89fc-de9f4ee9b332",
   "metadata": {},
   "outputs": [],
   "source": []
  }
 ],
 "metadata": {
  "kernelspec": {
   "display_name": "Python 3 (ipykernel)",
   "language": "python",
   "name": "python3"
  },
  "language_info": {
   "codemirror_mode": {
    "name": "ipython",
    "version": 3
   },
   "file_extension": ".py",
   "mimetype": "text/x-python",
   "name": "python",
   "nbconvert_exporter": "python",
   "pygments_lexer": "ipython3",
   "version": "3.10.8"
  }
 },
 "nbformat": 4,
 "nbformat_minor": 5
}
