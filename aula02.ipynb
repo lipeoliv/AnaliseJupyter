{
 "cells": [
  {
   "cell_type": "markdown",
   "id": "ad8351e2-e64a-42c6-af10-bc3e51f272ef",
   "metadata": {
    "scrolled": true
   },
   "source": [
    "Tipos de dados em Python\n",
    "- Inteiro\n",
    "- Real\n",
    "- Texto\n",
    "- Booleano"
   ]
  },
  {
   "cell_type": "markdown",
   "id": "a7f885ad-45f4-48b4-98d4-674758334e87",
   "metadata": {},
   "source": [
    "idade = 30 \n",
    "nota = 10.5\n",
    "nome = 'IFRN'\n",
    "valor = True\n"
   ]
  },
  {
   "cell_type": "markdown",
   "id": "35015f9d-44a9-4c3d-9561-6f1eeeb32402",
   "metadata": {},
   "source": [
    "Estruturas Condicionais\n",
    "-IF \n",
    "-IF ...ELSE\n",
    "-ELIF"
   ]
  },
  {
   "cell_type": "code",
   "execution_count": 2,
   "id": "d5dfbf1d-6181-406e-b749-6b4414ca5219",
   "metadata": {},
   "outputs": [],
   "source": [
    "valor = 0 \n",
    "if valor>0:\n",
    "    print(\"Valor Positivo\")\n",
    "    "
   ]
  },
  {
   "cell_type": "code",
   "execution_count": 3,
   "id": "1b6a76f6-5c39-41ef-b4e7-c0503e891870",
   "metadata": {},
   "outputs": [
    {
     "name": "stdout",
     "output_type": "stream",
     "text": [
      "Valor Positivo\n"
     ]
    }
   ],
   "source": [
    "valor = 5\n",
    "if valor >=0:\n",
    "    print(\"Valor Positivo\")\n",
    "else:\n",
    "    print(\"Valor Negativo\")"
   ]
  },
  {
   "cell_type": "code",
   "execution_count": 4,
   "id": "69406079-c5fc-4eca-8a11-6332dd317c55",
   "metadata": {},
   "outputs": [
    {
     "name": "stdout",
     "output_type": "stream",
     "text": [
      "Negativo\n"
     ]
    }
   ],
   "source": [
    "valor =-2\n",
    "if valor>= 0:\n",
    "    print(\"Positivo\")\n",
    "elif valor ==0:\n",
    "    print(\"Zero\")\n",
    "else:\n",
    "    print(\"Negativo\")"
   ]
  },
  {
   "cell_type": "markdown",
   "id": "d888f3ce-cbe0-49b0-a7ac-2a803fa68c55",
   "metadata": {},
   "source": [
    "Lista de dados (Array)\n",
    "- Usa colchetes para agrupar os elementos\n",
    "- Através de lista é possível salvar vários valores em uma única variável"
   ]
  },
  {
   "cell_type": "code",
   "execution_count": 7,
   "id": "0c7da76a-cfe9-4e00-8853-684505b28bfa",
   "metadata": {},
   "outputs": [
    {
     "name": "stdout",
     "output_type": "stream",
     "text": [
      "Analise\n"
     ]
    }
   ],
   "source": [
    "idade = [30, 18, 23]\n",
    "notas = [8, 5, 7, 5]\n",
    "nomes = [\"IFRN\", \"IFPB\", \"IFPE\"]\n",
    "valores = [True, False, False]\n",
    "diversos = [30, 5.3, \"Analise\", True]\n",
    "\n",
    "print(diversos[2])"
   ]
  },
  {
   "cell_type": "code",
   "execution_count": 17,
   "id": "70f833df-d12c-4ce1-aabb-c058f5a66fe9",
   "metadata": {},
   "outputs": [
    {
     "data": {
      "text/plain": [
       "30"
      ]
     },
     "execution_count": 17,
     "metadata": {},
     "output_type": "execute_result"
    }
   ],
   "source": [
    "'''\n",
    " O jupyter permite a impressão sem a ultilização do print, \n",
    " isto funciona apenas nesta ferramenta.\n",
    "'''\n",
    "\n",
    "diversos[0]"
   ]
  },
  {
   "cell_type": "code",
   "execution_count": 15,
   "id": "3bd2103b-904a-4139-9b30-03f7a8ff71e2",
   "metadata": {},
   "outputs": [
    {
     "name": "stdout",
     "output_type": "stream",
     "text": [
      "2\n"
     ]
    }
   ],
   "source": [
    "#O exemplo a seguir possui uma lista dentro de outra lista\n",
    "lista_1 = [5, 3, [2,1]]\n",
    "print(lista_1[2][0])"
   ]
  },
  {
   "cell_type": "code",
   "execution_count": 19,
   "id": "7aba4552-5c0d-48d1-a8a5-c2193d99dec3",
   "metadata": {},
   "outputs": [
    {
     "name": "stdout",
     "output_type": "stream",
     "text": [
      "4\n"
     ]
    }
   ],
   "source": [
    "lista_2 = [10, 54, 2, 1]\n",
    "print(len(lista_2))"
   ]
  },
  {
   "cell_type": "markdown",
   "id": "32fd1783-2270-4a20-8404-46274f180b45",
   "metadata": {},
   "source": [
    "Estrutura de Repetição\n",
    "- Se usa for e lista de dados"
   ]
  },
  {
   "cell_type": "code",
   "execution_count": 20,
   "id": "41dbab21-7c94-43f9-b441-bbfb59ca378f",
   "metadata": {},
   "outputs": [
    {
     "name": "stdout",
     "output_type": "stream",
     "text": [
      "1\n",
      "2\n",
      "3\n",
      "4\n",
      "5\n"
     ]
    }
   ],
   "source": [
    "for numero in [1, 2, 3, 4, 5]:\n",
    "    print(numero)"
   ]
  },
  {
   "cell_type": "markdown",
   "id": "6e77aadc-c012-44b1-b6ee-d4ace5a8f4db",
   "metadata": {},
   "source": [
    "A função range serve para gerar uma lista de dados"
   ]
  },
  {
   "cell_type": "code",
   "execution_count": 23,
   "id": "11a18dd0-6bb5-4422-9a4f-0e1a8749dcf1",
   "metadata": {},
   "outputs": [
    {
     "data": {
      "text/plain": [
       "[0, 1, 2, 3, 4, 5, 6, 7, 8, 9]"
      ]
     },
     "execution_count": 23,
     "metadata": {},
     "output_type": "execute_result"
    }
   ],
   "source": [
    "list(range(10))"
   ]
  },
  {
   "cell_type": "code",
   "execution_count": 24,
   "id": "59b0ace2-0f19-4160-a029-605949e49b4e",
   "metadata": {},
   "outputs": [
    {
     "data": {
      "text/plain": [
       "[1, 2, 3, 4, 5, 6, 7, 8, 9]"
      ]
     },
     "execution_count": 24,
     "metadata": {},
     "output_type": "execute_result"
    }
   ],
   "source": [
    "list(range(1,10))"
   ]
  },
  {
   "cell_type": "code",
   "execution_count": 25,
   "id": "32f2071b-33a3-47b3-b663-e3587c78ac26",
   "metadata": {},
   "outputs": [
    {
     "data": {
      "text/plain": [
       "[1, 3, 5, 7, 9]"
      ]
     },
     "execution_count": 25,
     "metadata": {},
     "output_type": "execute_result"
    }
   ],
   "source": [
    "list(range(1, 10, 2))"
   ]
  },
  {
   "cell_type": "code",
   "execution_count": null,
   "id": "8bd1a56f-fa35-4939-b84c-10e83b219e05",
   "metadata": {},
   "outputs": [],
   "source": [
    "for numero in range(1, 11):\n",
    "    "
   ]
  }
 ],
 "metadata": {
  "kernelspec": {
   "display_name": "Python 3 (ipykernel)",
   "language": "python",
   "name": "python3"
  },
  "language_info": {
   "codemirror_mode": {
    "name": "ipython",
    "version": 3
   },
   "file_extension": ".py",
   "mimetype": "text/x-python",
   "name": "python",
   "nbconvert_exporter": "python",
   "pygments_lexer": "ipython3",
   "version": "3.10.8"
  }
 },
 "nbformat": 4,
 "nbformat_minor": 5
}
