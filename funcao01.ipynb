{
 "cells": [
  {
   "cell_type": "markdown",
   "id": "d4480086-893c-4057-b155-9b7c452ee46f",
   "metadata": {},
   "source": [
    "Função em Python \n",
    "- Agrupar instruções que geralmente se repetem\n",
    "- Posso utilizar a função sempre que necessita executar essas instruções\n",
    "\n",
    "Em Pyhton se define uma função com a palavra reservada \"def\"\n",
    "\n",
    "Sintaxe:\n",
    "def nome_funcao():\n",
    "    instrucoes\n",
    "    "
   ]
  },
  {
   "cell_type": "code",
   "execution_count": 3,
   "id": "d7457803-2d71-4d95-acab-83570a9a3808",
   "metadata": {},
   "outputs": [],
   "source": [
    "#Função vazia: sem instruções. Deve utilizar a palavra pass\n",
    "def exemplo1():\n",
    "    pass"
   ]
  },
  {
   "cell_type": "code",
   "execution_count": 8,
   "id": "c5fe00b1-0577-40ff-92cc-4779a96cd855",
   "metadata": {},
   "outputs": [],
   "source": [
    "#Função sem retoeno e sem parâmetros\n",
    "def nome():\n",
    "    print(\"IFRN\")\n"
   ]
  },
  {
   "cell_type": "code",
   "execution_count": 9,
   "id": "58ed2121-f4b1-4e29-b1b7-7d36ad67216d",
   "metadata": {},
   "outputs": [
    {
     "name": "stdout",
     "output_type": "stream",
     "text": [
      "IFRN\n"
     ]
    }
   ],
   "source": [
    "nome()"
   ]
  },
  {
   "cell_type": "code",
   "execution_count": 26,
   "id": "469ac096-e4e3-494b-83ea-5e34bbc1ca62",
   "metadata": {},
   "outputs": [
    {
     "data": {
      "text/plain": [
       "'IFRN'"
      ]
     },
     "execution_count": 26,
     "metadata": {},
     "output_type": "execute_result"
    }
   ],
   "source": [
    "#Função com retorno e sem parâmetros\n",
    "\n",
    "def instituicao():\n",
    "    return 'IFRN'\n",
    "\n",
    "print(instituicao())\n"
   ]
  },
  {
   "cell_type": "code",
   "execution_count": 27,
   "id": "9783ce89-10e0-478d-aa1d-b2d71d1abba1",
   "metadata": {},
   "outputs": [
    {
     "name": "stdout",
     "output_type": "stream",
     "text": [
      "IFRN\n"
     ]
    }
   ],
   "source": [
    "print(instituicao())"
   ]
  },
  {
   "cell_type": "code",
   "execution_count": 42,
   "id": "4b22dddf-5e4c-4f6e-b26d-ea0c605b20e2",
   "metadata": {},
   "outputs": [],
   "source": [
    "# Função com parâmetro e sem retorno \n",
    "def idade(numero):\n",
    "    print('A miha idade é:', numero, 'anos')"
   ]
  },
  {
   "cell_type": "code",
   "execution_count": 43,
   "id": "985e2cd6-f580-4a90-a85a-d9c3b5d94fea",
   "metadata": {},
   "outputs": [
    {
     "name": "stdout",
     "output_type": "stream",
     "text": [
      "A miha idade é: 30 anos\n"
     ]
    }
   ],
   "source": [
    "idade(30)"
   ]
  },
  {
   "cell_type": "code",
   "execution_count": 44,
   "id": "7fcf2048-1700-41e2-b6e6-3c621e18c303",
   "metadata": {},
   "outputs": [
    {
     "name": "stdout",
     "output_type": "stream",
     "text": [
      "A miha idade é: 15 anos\n"
     ]
    }
   ],
   "source": [
    "idade(15)\n"
   ]
  },
  {
   "cell_type": "code",
   "execution_count": 45,
   "id": "47ab46cd-967b-4f4f-adb6-0aac0919562c",
   "metadata": {},
   "outputs": [],
   "source": [
    "# Função com parâmetros e retorno\n",
    "\n",
    "def somar(numero1, numero2):\n",
    "    return numero1+numero2\n",
    "    "
   ]
  },
  {
   "cell_type": "code",
   "execution_count": 46,
   "id": "ae68a442-f259-4237-9b28-1c913b7232b7",
   "metadata": {},
   "outputs": [
    {
     "data": {
      "text/plain": [
       "3"
      ]
     },
     "execution_count": 46,
     "metadata": {},
     "output_type": "execute_result"
    }
   ],
   "source": [
    "somar(1,2)"
   ]
  },
  {
   "cell_type": "code",
   "execution_count": 51,
   "id": "e2b23b15-b232-458e-840c-38677f363609",
   "metadata": {},
   "outputs": [
    {
     "name": "stdout",
     "output_type": "stream",
     "text": [
      "30\n"
     ]
    }
   ],
   "source": [
    "num1 = 10\n",
    "num2 = 20\n",
    "print(somar(num1,num2))"
   ]
  },
  {
   "cell_type": "code",
   "execution_count": 49,
   "id": "a8eb8608-4d25-42c6-ac20-55ba1bc897a9",
   "metadata": {},
   "outputs": [
    {
     "name": "stdout",
     "output_type": "stream",
     "text": [
      "30\n"
     ]
    }
   ],
   "source": [
    "print(numero1+numero2)"
   ]
  },
  {
   "cell_type": "markdown",
   "id": "c68e0d27-1942-4310-ac02-cf255d78bbf1",
   "metadata": {},
   "source": [
    "Por padrão, python (assim como a maioria das linguagens de programação) utilizar parâmetros posicionais, ou seja, o primeiro argumento é substituido no primeiro parâmetro, o segundo argumento é substituido no segundo parâmetro, e assim por diante.\n"
   ]
  },
  {
   "cell_type": "markdown",
   "id": "0185593e-ae59-4051-9537-9c10c5ba487d",
   "metadata": {},
   "source": [
    "Python permite alterar a ordem com que os valores são substituidos nos parâmetroos. atráves dos parâmetros nomeados."
   ]
  },
  {
   "cell_type": "code",
   "execution_count": 52,
   "id": "31e0a921-81d1-4939-bbef-daaca0378d28",
   "metadata": {},
   "outputs": [
    {
     "name": "stdout",
     "output_type": "stream",
     "text": [
      "Bruno  30  12345  54321\n"
     ]
    }
   ],
   "source": [
    "def cadastro(nome, idade, cpf, rg):\n",
    "    print(nome, \"\", idade, \"\", cpf, \"\",rg)\n",
    "cadastro(\"Bruno\", 30 ,\"12345\", \"54321\")"
   ]
  },
  {
   "cell_type": "code",
   "execution_count": 53,
   "id": "26a0f9b7-99a7-44a1-af55-3ba47b0b5b33",
   "metadata": {},
   "outputs": [
    {
     "name": "stdout",
     "output_type": "stream",
     "text": [
      "Burno  30  12345  54321\n"
     ]
    }
   ],
   "source": [
    "# Parâmetros nomeados\n",
    "\n",
    "cadastro(cpf=\"12345\" , rg = \"54321\", idade=30, nome=\"Burno\")"
   ]
  },
  {
   "cell_type": "markdown",
   "id": "e105e07d-2830-4454-b7d5-7a369145fa3e",
   "metadata": {},
   "source": [
    "Parâmetros default \n",
    "É possível definir um valor padrão para os parâmetros caso eles não sejam informados\n"
   ]
  },
  {
   "cell_type": "code",
   "execution_count": 57,
   "id": "0ed31495-3b0b-4902-a408-1e6b501d8d6b",
   "metadata": {},
   "outputs": [
    {
     "name": "stdout",
     "output_type": "stream",
     "text": [
      "Felipe  123 \n"
     ]
    }
   ],
   "source": [
    "def autenticar(usuario = \"root\", senha=\"12345\"):\n",
    "    print(usuario, \"\", senha, \"\")\n",
    "\n",
    "autenticar(\"Felipe\",\"123\")\n",
    "\n"
   ]
  },
  {
   "cell_type": "code",
   "execution_count": 58,
   "id": "1122ba48-8ca3-45f5-ac70-f0ca4dc1aba6",
   "metadata": {},
   "outputs": [
    {
     "name": "stdout",
     "output_type": "stream",
     "text": [
      "root  12345 \n"
     ]
    }
   ],
   "source": [
    "autenticar()"
   ]
  },
  {
   "cell_type": "code",
   "execution_count": 63,
   "id": "7ce13524-e20e-41ea-a866-2cbc8b2a1aa5",
   "metadata": {},
   "outputs": [],
   "source": [
    "# Python permite retornar mais de um valor\n",
    "def aula():\n",
    "    return \"Felipe\", 20\n",
    "\n",
    "\n"
   ]
  },
  {
   "cell_type": "code",
   "execution_count": 64,
   "id": "65367830-8ea4-47b1-918c-73b19859aea8",
   "metadata": {},
   "outputs": [
    {
     "name": "stdout",
     "output_type": "stream",
     "text": [
      "Felipe   20\n"
     ]
    }
   ],
   "source": [
    "nome,idade = aula()\n",
    "print(nome,\" \",idade) "
   ]
  },
  {
   "cell_type": "code",
   "execution_count": null,
   "id": "836fd00e-7d74-44a2-a25c-afbc4691d141",
   "metadata": {},
   "outputs": [],
   "source": []
  }
 ],
 "metadata": {
  "kernelspec": {
   "display_name": "Python 3 (ipykernel)",
   "language": "python",
   "name": "python3"
  },
  "language_info": {
   "codemirror_mode": {
    "name": "ipython",
    "version": 3
   },
   "file_extension": ".py",
   "mimetype": "text/x-python",
   "name": "python",
   "nbconvert_exporter": "python",
   "pygments_lexer": "ipython3",
   "version": "3.10.8"
  }
 },
 "nbformat": 4,
 "nbformat_minor": 5
}
