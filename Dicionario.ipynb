{
 "cells": [
  {
   "cell_type": "markdown",
   "id": "f1467a45-dde2-435c-b011-78fd5a67f34b",
   "metadata": {},
   "source": [
    "# Dicionário de dados"
   ]
  },
  {
   "cell_type": "markdown",
   "id": "906132b6-b8fc-43df-9a42-abb46a7017a2",
   "metadata": {},
   "source": [
    "Estrututa que permite armazenar o conceito de chaves e valor\n",
    "- Cada posição do dicionário possui uma chave e um valor correspondente \n",
    "- Criado através de chaves { }"
   ]
  },
  {
   "cell_type": "code",
   "execution_count": 1,
   "id": "4ae49f15-66ff-4325-a3c0-30489e52afb0",
   "metadata": {},
   "outputs": [],
   "source": [
    "# Criando umdicionário de dados \n",
    "\n",
    "dicionario_1 = {\"chave1\" : \"valor1\", \"chave2\" : \"valor2\"}\n"
   ]
  },
  {
   "cell_type": "code",
   "execution_count": 2,
   "id": "2c0d464e-cc7b-48ea-be70-844710b6562f",
   "metadata": {},
   "outputs": [],
   "source": [
    "# Forma organizada de representar um dicionário\n",
    "dicionario_1 = {\n",
    "    \"chave1\" : \"valor1\",\n",
    "    \"chave2\" : \"valor2\"\n",
    "}"
   ]
  },
  {
   "cell_type": "code",
   "execution_count": 3,
   "id": "827af654-aadd-49ac-adcd-54598bd9386f",
   "metadata": {},
   "outputs": [],
   "source": [
    "# o dicionário pode ter chaves e valores de diferentes tipos \n",
    "dicionario_2 = {\n",
    "    \"nota1\" : 10,\n",
    "    \"nota2\" : 20\n",
    "}"
   ]
  },
  {
   "cell_type": "code",
   "execution_count": 5,
   "id": "a39a7110-a31b-4630-a1ef-4218b3ad581b",
   "metadata": {},
   "outputs": [
    {
     "name": "stdout",
     "output_type": "stream",
     "text": [
      "valor1\n"
     ]
    }
   ],
   "source": [
    "'''\n",
    "Para acessar o valor de um dicionário é necessario utilizar colchetes e a chave \n",
    "'''\n",
    "\n",
    "dicionario_1 = {\n",
    "    \"chave1\" : \"valor1\",\n",
    "    \"chave2\" : \"valor2\"\n",
    "}\n",
    "print(dicionario_1[\"chave1\"])\n"
   ]
  },
  {
   "cell_type": "code",
   "execution_count": 8,
   "id": "59bd6e85-e09d-4c54-8ed4-0dbf854ee633",
   "metadata": {},
   "outputs": [
    {
     "name": "stdout",
     "output_type": "stream",
     "text": [
      "20\n"
     ]
    }
   ],
   "source": [
    "# Criando um dicionário vazio e adicionando valores manualmente\n",
    "\n",
    "dicionario_3 = {}\n",
    "dicionario_3 [\"nota1\"] = 20\n",
    "dicionario_3 [\"nota2\"] = 50\n",
    "print(dicionario_3[\"nota1\"])"
   ]
  },
  {
   "cell_type": "code",
   "execution_count": 9,
   "id": "5f21f305-6c9e-4e43-94a2-f39d3bafa16d",
   "metadata": {},
   "outputs": [
    {
     "name": "stdout",
     "output_type": "stream",
     "text": [
      "valor3\n"
     ]
    }
   ],
   "source": [
    "# Adicionando elemento a um dicionário já existente \n",
    "dicionario_1 = {\n",
    "    \"chave1\" : \"valor1\",\n",
    "    \"chave2\" : \"valor2\"\n",
    "}\n",
    "dicionario_1[\"chave3\"] = \"valor3\"\n",
    "print(dicionario_1[\"chave3\"])"
   ]
  },
  {
   "cell_type": "code",
   "execution_count": 10,
   "id": "f0b7b4c0-a5f9-4153-9ff9-6a9d5714e4dd",
   "metadata": {},
   "outputs": [
    {
     "name": "stdout",
     "output_type": "stream",
     "text": [
      "3\n"
     ]
    }
   ],
   "source": [
    "# Tamanho de um dicionário  - len()\n",
    "\n",
    "dicionario_1 = {\n",
    "    \"chave1\" : \"valor1\",\n",
    "    \"chave2\" : \"valor2\",\n",
    "    \"chave3\" : \"valor3\"\n",
    "}\n",
    "\n",
    "print(len(dicionario_1))"
   ]
  },
  {
   "cell_type": "code",
   "execution_count": 11,
   "id": "c30fb214-96a6-4790-b983-de8f53328662",
   "metadata": {},
   "outputs": [
    {
     "name": "stdout",
     "output_type": "stream",
     "text": [
      "{}\n"
     ]
    }
   ],
   "source": [
    "# Zerar um dicionário - clear()\n",
    "\n",
    "dicionario_1 = {\n",
    "    \"chave1\" : \"valor1\",\n",
    "    \"chave2\" : \"valor2\",\n",
    "    \"chave3\" : \"valor3\"\n",
    "}\n",
    "dicionario_1.clear()\n",
    "print(dicionario_1)\n"
   ]
  },
  {
   "cell_type": "code",
   "execution_count": 17,
   "id": "e1133ec0-fed1-4a68-9914-b962f6dc7d4e",
   "metadata": {},
   "outputs": [
    {
     "name": "stdout",
     "output_type": "stream",
     "text": [
      "dict_keys(['chave1', 'chave2', 'chave3'])\n",
      "chave1\n"
     ]
    }
   ],
   "source": [
    "# Acessando todas as chaves do dicionário - keys()\n",
    "\n",
    "dicionario_1 = {\n",
    "    \"chave1\" : \"valor1\",\n",
    "    \"chave2\" : \"valor2\",\n",
    "    \"chave3\" : \"valor3\"\n",
    "}\n",
    "print(dicionario_1.keys()) \n",
    "print(list(dicionario_1.keys())[0]) "
   ]
  },
  {
   "cell_type": "code",
   "execution_count": 18,
   "id": "6af17c83-7de3-4635-acb4-a75675c9dae7",
   "metadata": {},
   "outputs": [
    {
     "name": "stdout",
     "output_type": "stream",
     "text": [
      "dict_values(['valor1', 'valor2', 'valor3'])\n"
     ]
    }
   ],
   "source": [
    "# Acessando os valores - values()\n",
    "print(dicionario_1.values())\n"
   ]
  },
  {
   "cell_type": "code",
   "execution_count": 19,
   "id": "8c9708b2-6757-4141-9bc3-cd09416b3b02",
   "metadata": {},
   "outputs": [
    {
     "name": "stdout",
     "output_type": "stream",
     "text": [
      "valor2\n"
     ]
    }
   ],
   "source": [
    "# Convertendo para lista e acessando o elemento via posição \n",
    "\n",
    "print(list(dicionario_1.values())[1])\n"
   ]
  },
  {
   "cell_type": "code",
   "execution_count": 26,
   "id": "1b993ab3-9f29-4ff4-9c7d-b0ced851312f",
   "metadata": {},
   "outputs": [
    {
     "name": "stdout",
     "output_type": "stream",
     "text": [
      "valor1\n",
      "valor2\n",
      "valor3\n"
     ]
    }
   ],
   "source": [
    "''' \n",
    "Como imprimir todos os valores do dicionário e seguir \n",
    "sem saber quais são as chaves e quantos elementos ele \n",
    "possui.\n",
    "'''\n",
    "\n",
    "dicionario_1 = {\n",
    "    \"chave1\" : \"valor1\",\n",
    "    \"chave2\" : \"valor2\",\n",
    "    \"chave3\" : \"valor3\"\n",
    "}\n",
    "for valor in dicionario_1.values():\n",
    "    print (valor)"
   ]
  },
  {
   "cell_type": "code",
   "execution_count": 33,
   "id": "ad002526-7c14-4d16-9c3d-23f6b52573eb",
   "metadata": {},
   "outputs": [
    {
     "name": "stdout",
     "output_type": "stream",
     "text": [
      "chave: chave1\n",
      "valor: valor1\n",
      "chave: chave2\n",
      "valor: valor2\n",
      "chave: chave3\n",
      "valor: valor3\n"
     ]
    }
   ],
   "source": [
    "''' \n",
    "Como imprimir todas as chaves e valores do dicionário e seguir \n",
    "sem saber quais são as chaves e quantos elementos ele \n",
    "possui.\n",
    "'''\n",
    "\n",
    "dicionario_1 = {\n",
    "    \"chave1\" : \"valor1\",\n",
    "    \"chave2\" : \"valor2\",\n",
    "    \"chave3\" : \"valor3\"\n",
    "}\n",
    "\n",
    "for chave in dicionario_1.keys():\n",
    "    print (\"chave:\" , chave)\n",
    "    print (\"valor:\", dicionario_1[chave])\n",
    "\n"
   ]
  },
  {
   "cell_type": "code",
   "execution_count": 34,
   "id": "0f2a33c1-b07b-42ef-8e8a-0e4f41dc86eb",
   "metadata": {},
   "outputs": [
    {
     "name": "stdout",
     "output_type": "stream",
     "text": [
      "Chave: chave1 Valor: valor1\n",
      "Chave: chave2 Valor: valor2\n",
      "Chave: chave3 Valor: valor3\n"
     ]
    }
   ],
   "source": [
    "'''\n",
    "A função items() retorna ao mesmo tempo\n",
    "a chave e valor (retorno duplo)\n",
    "'''\n",
    "\n",
    "for chave, valor in dicionario_1.items():\n",
    "    print(\"Chave:\", chave, \"Valor:\", valor)"
   ]
  },
  {
   "cell_type": "code",
   "execution_count": 35,
   "id": "88b77a4e-4792-4a53-8600-4baffaa6f18b",
   "metadata": {},
   "outputs": [
    {
     "name": "stdout",
     "output_type": "stream",
     "text": [
      "80\n"
     ]
    }
   ],
   "source": [
    "# É possível salvar uma lista dentro de um dicionário\n",
    "\n",
    "dicionario_4 = {\n",
    "    \"notas1\" : [80, 50],\n",
    "    \"notas2\" : [60, 100]\n",
    "}\n",
    "\n",
    "print(dicionario_4[\"notas1\"][0])\n"
   ]
  },
  {
   "cell_type": "code",
   "execution_count": 40,
   "id": "4e3c7fab-7475-4dd5-9ad7-3ce39de105f7",
   "metadata": {},
   "outputs": [
    {
     "name": "stdout",
     "output_type": "stream",
     "text": [
      "{'nota1': 80, 'nota2': 60, 'nome': 'Felipe Oliveira', 'CPF': 123456789}\n"
     ]
    }
   ],
   "source": [
    "# Para unir dois dicionário, se usa a função UPDATE()\n",
    "\n",
    "dicionario_5 = {\n",
    "    \"nota1\": 80,\n",
    "    \"nota2\": 60\n",
    "}\n",
    "\n",
    "dicionario_6 = {\n",
    "    \"nome\" : \"Felipe Oliveira\",\n",
    "    \"CPF\": 123456789\n",
    "}\n",
    "\n",
    "dicionario_5.update(dicionario_6)\n",
    "print(dicionario_5)\n",
    "\n",
    "    "
   ]
  },
  {
   "cell_type": "code",
   "execution_count": 42,
   "id": "3857f4cb-30f8-4fc7-a530-723756f88dfa",
   "metadata": {},
   "outputs": [
    {
     "ename": "NameError",
     "evalue": "name 'dicionario_5' is not defined",
     "output_type": "error",
     "traceback": [
      "\u001b[1;31m---------------------------------------------------------------------------\u001b[0m",
      "\u001b[1;31mNameError\u001b[0m                                 Traceback (most recent call last)",
      "Cell \u001b[1;32mIn[42], line 3\u001b[0m\n\u001b[0;32m      1\u001b[0m \u001b[38;5;66;03m# Remove\u001b[39;00m\n\u001b[1;32m----> 3\u001b[0m \u001b[38;5;28;01mdel\u001b[39;00m(dicionario_5)\n\u001b[0;32m      4\u001b[0m \u001b[38;5;28mprint\u001b[39m(dicionario_5)\n",
      "\u001b[1;31mNameError\u001b[0m: name 'dicionario_5' is not defined"
     ]
    }
   ],
   "source": [
    "# Remove\n",
    "\n",
    "del(dicionario_5)\n",
    "print(dicionario_5)\n",
    "\n"
   ]
  },
  {
   "cell_type": "code",
   "execution_count": 1,
   "id": "4743b675-fe8e-4e77-950a-94c189cae165",
   "metadata": {},
   "outputs": [
    {
     "data": {
      "text/plain": [
       "80"
      ]
     },
     "execution_count": 1,
     "metadata": {},
     "output_type": "execute_result"
    }
   ],
   "source": [
    "# Remover um conjuto de chave e valor - função pop()\n",
    "\n",
    "dicionario_5 = {\n",
    "    \"nota1\": 80,\n",
    "    \"nota2\": 60\n",
    "}\n",
    "dicionario_5.pop(\"nota1\")\n"
   ]
  },
  {
   "cell_type": "code",
   "execution_count": null,
   "id": "4e5cbbc1-53f3-4a26-8bad-65e4fbc48e25",
   "metadata": {},
   "outputs": [],
   "source": []
  }
 ],
 "metadata": {
  "kernelspec": {
   "display_name": "Python 3 (ipykernel)",
   "language": "python",
   "name": "python3"
  },
  "language_info": {
   "codemirror_mode": {
    "name": "ipython",
    "version": 3
   },
   "file_extension": ".py",
   "mimetype": "text/x-python",
   "name": "python",
   "nbconvert_exporter": "python",
   "pygments_lexer": "ipython3",
   "version": "3.10.8"
  }
 },
 "nbformat": 4,
 "nbformat_minor": 5
}
