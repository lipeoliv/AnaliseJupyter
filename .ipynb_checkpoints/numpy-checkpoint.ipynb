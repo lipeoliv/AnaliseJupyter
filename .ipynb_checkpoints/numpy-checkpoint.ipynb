{
 "cells": [
  {
   "cell_type": "markdown",
   "id": "0f4c2d1a-11fc-453e-bfa9-2072d45ca4db",
   "metadata": {},
   "source": [
    "# Numpy "
   ]
  },
  {
   "cell_type": "code",
   "execution_count": null,
   "id": "2a54498e-4745-481a-8072-39561f967608",
   "metadata": {},
   "outputs": [],
   "source": [
    "Numpy = numerical Python\n",
    "Pacote para operações matemáticas que suportam estatística, análise de dados,\n",
    "inteligência artificial, entre outras.\n",
    "\n",
    "- Numpy trabalha com o conceito de Array e tem suporte a leitura de datasets;\n",
    "- Disponibiliza diversas funções de cálculos metemáticos e estetícos;\n",
    "\n",
    "Site oficial : http://numpy.org\n",
    "\n",
    "Instalação: pip install numpy"
   ]
  },
  {
   "cell_type": "markdown",
   "id": "ffdbd4e0-d0ac-436a-ae30-39cf13668a46",
   "metadata": {},
   "source": [
    "## Array numpy \n",
    "\n",
    "Array numpy é uma lista de dados de mesmo tipo\n",
    "NomenClatura oficial : ndarry\n",
    "- 1-D array - array com 1 dimensão - vetor, lista\n",
    "- 2-D array com 2 dimensão - matriz\n",
    "- 3-D ou mais array - array com 3 ou mais dimensões - tensor"
   ]
  },
  {
   "cell_type": "code",
   "execution_count": 1,
   "id": "609eb527-5435-456c-865e-125a553df0f1",
   "metadata": {},
   "outputs": [],
   "source": [
    "# Importando a biblioteca\n",
    "import numpy as np"
   ]
  },
  {
   "cell_type": "code",
   "execution_count": 2,
   "id": "2bdf3dc1-4252-406f-820c-7672c8a8d5fb",
   "metadata": {},
   "outputs": [
    {
     "name": "stdout",
     "output_type": "stream",
     "text": [
      "[ 2  6  5  1 55]\n"
     ]
    }
   ],
   "source": [
    "# Criando um array numpy - função array()\n",
    "\n",
    "array_01 =np.array([2, 6, 5, 1, 55])\n",
    "print(array_01)"
   ]
  },
  {
   "cell_type": "code",
   "execution_count": 3,
   "id": "63fa5d44-4239-4baf-83d5-c8748ef80452",
   "metadata": {},
   "outputs": [
    {
     "name": "stdout",
     "output_type": "stream",
     "text": [
      "<class 'numpy.ndarray'>\n"
     ]
    }
   ],
   "source": [
    "# Type é uma função python para visualizar o tipo de dado \n",
    "\n",
    "print(type(array_01))"
   ]
  },
  {
   "cell_type": "markdown",
   "id": "6450eb31-a638-4fc2-b8dc-8149407ed10e",
   "metadata": {},
   "source": [
    "## Propiedade "
   ]
  },
  {
   "cell_type": "code",
   "execution_count": 4,
   "id": "1489b49b-8dd9-43b9-8e19-965abd1b9fdd",
   "metadata": {},
   "outputs": [
    {
     "name": "stdout",
     "output_type": "stream",
     "text": [
      "int32\n"
     ]
    }
   ],
   "source": [
    "# dtype - Imprime os tipos dados do array numpy\n",
    "\n",
    "print(array_01.dtype)"
   ]
  },
  {
   "cell_type": "code",
   "execution_count": 5,
   "id": "c7c79c14-5933-4900-9d7e-9b10eec8078d",
   "metadata": {},
   "outputs": [
    {
     "name": "stdout",
     "output_type": "stream",
     "text": [
      "(5,)\n"
     ]
    }
   ],
   "source": [
    "# shape - dimensão e quantidade de elementos do array numpy\n",
    "\n",
    "print(array_01.shape)"
   ]
  },
  {
   "cell_type": "code",
   "execution_count": 6,
   "id": "2f9f481d-4cf3-478f-9670-850449121768",
   "metadata": {},
   "outputs": [
    {
     "name": "stdout",
     "output_type": "stream",
     "text": [
      "5\n"
     ]
    }
   ],
   "source": [
    "# size - Quantidade de elementos do array\n",
    "\n",
    "print(array_01.size)"
   ]
  },
  {
   "cell_type": "markdown",
   "id": "f6a862a8-89e9-4f9d-a7a9-c92a218bd825",
   "metadata": {},
   "source": [
    "## Funções "
   ]
  },
  {
   "cell_type": "code",
   "execution_count": 8,
   "id": "71e2c6c2-856f-464b-9d2a-0b258dc4f967",
   "metadata": {},
   "outputs": [
    {
     "name": "stdout",
     "output_type": "stream",
     "text": [
      "[ 2  8 13 14 69]\n"
     ]
    }
   ],
   "source": [
    "# cumcum() - gera um novo array numpy com a soma acumulada dos elementos\n",
    "\n",
    "array_01 =np.array([2, 6, 5, 1, 55])\n",
    "print(array_01.cumsum())"
   ]
  },
  {
   "cell_type": "code",
   "execution_count": 14,
   "id": "ad8456df-fd9d-4a6f-b395-8d4946161f9d",
   "metadata": {},
   "outputs": [
    {
     "name": "stdout",
     "output_type": "stream",
     "text": [
      "[0 1 2 3 4 5 6 7 8 9]\n"
     ]
    }
   ],
   "source": [
    "# orange () cria um array numpy seguindo a mesma lógica da função range()\n",
    "\n",
    "array_01 =np.arange(10)\n",
    "print(array_01)\n"
   ]
  },
  {
   "cell_type": "code",
   "execution_count": 15,
   "id": "a18866ec-250e-453a-8fbf-721bb599a394",
   "metadata": {},
   "outputs": [
    {
     "name": "stdout",
     "output_type": "stream",
     "text": [
      "[2 3 4 5 6 7 8 9]\n"
     ]
    }
   ],
   "source": [
    "array_01 =np.arange(2,10)\n",
    "print(array_01)"
   ]
  },
  {
   "cell_type": "code",
   "execution_count": 17,
   "id": "4231a8b5-49b6-4e73-ba0b-165919d9a721",
   "metadata": {},
   "outputs": [
    {
     "name": "stdout",
     "output_type": "stream",
     "text": [
      "[2 6]\n"
     ]
    }
   ],
   "source": [
    "array_01 =np.arange(2,10,4)\n",
    "print(array_01)"
   ]
  },
  {
   "cell_type": "code",
   "execution_count": 25,
   "id": "e2c09ba8-e712-4cdf-917f-f186ddff35ee",
   "metadata": {},
   "outputs": [
    {
     "name": "stdout",
     "output_type": "stream",
     "text": [
      "[ 1.  4.  7. 10.]\n"
     ]
    }
   ],
   "source": [
    "\n",
    "'''\n",
    "linspace () - gera um array numpy que:\n",
    "(1,10,4)\n",
    "1 - Número inicial do intervalo\n",
    "10 - Número final do intervalo\n",
    "4 - Deve preencher o array com 4 elementos deste intervalo com o mesmo espaçamento entre eles\n",
    "\n",
    "'''\n",
    "array_01 =np.linspace(1,10,4)\n",
    "print(array_01)\n",
    "\n"
   ]
  },
  {
   "cell_type": "code",
   "execution_count": 26,
   "id": "9c0ecc01-addf-4e9b-8192-b7d002083a6e",
   "metadata": {},
   "outputs": [
    {
     "name": "stdout",
     "output_type": "stream",
     "text": [
      "[False  True  True  True]\n"
     ]
    }
   ],
   "source": [
    "# equal() - compara elementos de arrays numpy, resultando em um array de booleanos \n",
    "\n",
    "array_02 = np.array([1,4,7,4])\n",
    "array_03 = np.array([2,4,7,4])\n",
    "print(np.equal(array_02, array_03))"
   ]
  },
  {
   "cell_type": "code",
   "execution_count": 27,
   "id": "a238d8cf-f472-4b20-9933-9c0a7f202986",
   "metadata": {},
   "outputs": [
    {
     "name": "stdout",
     "output_type": "stream",
     "text": [
      "False\n"
     ]
    }
   ],
   "source": [
    "# array_equal() - compara se o array é igual ao outro\n",
    "\n",
    "array_02 = np.array([1,4,7,4])\n",
    "array_03 = np.array([2,4,7,4])\n",
    "print(np.array_equal(array_02, array_03))"
   ]
  },
  {
   "cell_type": "markdown",
   "id": "dd940e00-75a9-49f6-b7d8-2580b4a1ba60",
   "metadata": {},
   "source": [
    "## Slicing de Arrays numpy (fatiamento)"
   ]
  },
  {
   "cell_type": "code",
   "execution_count": 30,
   "id": "a1a0cba5-3b6b-45ef-bc99-1d8d2c62554f",
   "metadata": {},
   "outputs": [
    {
     "name": "stdout",
     "output_type": "stream",
     "text": [
      "[ 0  1  2  3  4  5  6  7  8  9 10 11 12 13 14 15 16 17 18 19]\n"
     ]
    }
   ],
   "source": [
    "array_04 = np.arange(20)\n",
    "print(array_04)"
   ]
  },
  {
   "cell_type": "code",
   "execution_count": 32,
   "id": "e00b06e2-1ad5-487f-af0a-a6f1e28e5d1f",
   "metadata": {},
   "outputs": [
    {
     "name": "stdout",
     "output_type": "stream",
     "text": [
      "[ 5  7  9 11 13]\n"
     ]
    }
   ],
   "source": [
    "print(array_04[5:15:2])"
   ]
  },
  {
   "cell_type": "code",
   "execution_count": 33,
   "id": "420adc29-309d-473e-af0e-5fe94041156a",
   "metadata": {},
   "outputs": [
    {
     "name": "stdout",
     "output_type": "stream",
     "text": [
      "[ 5  6  7  8  9 10 11 12 13 14 15 16 17 18 19]\n"
     ]
    }
   ],
   "source": [
    "print(array_04[5::])"
   ]
  },
  {
   "cell_type": "code",
   "execution_count": null,
   "id": "905ae1d6-e33f-4c57-9c0a-67707206724f",
   "metadata": {},
   "outputs": [],
   "source": []
  }
 ],
 "metadata": {
  "kernelspec": {
   "display_name": "Python 3 (ipykernel)",
   "language": "python",
   "name": "python3"
  },
  "language_info": {
   "codemirror_mode": {
    "name": "ipython",
    "version": 3
   },
   "file_extension": ".py",
   "mimetype": "text/x-python",
   "name": "python",
   "nbconvert_exporter": "python",
   "pygments_lexer": "ipython3",
   "version": "3.10.8"
  }
 },
 "nbformat": 4,
 "nbformat_minor": 5
}
