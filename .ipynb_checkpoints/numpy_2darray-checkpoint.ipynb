{
 "cells": [
  {
   "cell_type": "markdown",
   "id": "a5570b0f-73fa-4a6a-9981-ff0e36d269f2",
   "metadata": {},
   "source": [
    "# 2darray - Array de 2 dimensão"
   ]
  },
  {
   "cell_type": "code",
   "execution_count": 5,
   "id": "44811eee-3f57-4453-bc49-14f2e5cce2f1",
   "metadata": {},
   "outputs": [],
   "source": [
    "import numpy as np"
   ]
  },
  {
   "cell_type": "markdown",
   "id": "47345acf-919f-4a4f-ba02-d8e8817e1ef0",
   "metadata": {},
   "source": [
    "## Criação de um 2darray "
   ]
  },
  {
   "cell_type": "code",
   "execution_count": 6,
   "id": "bbddba4c-153a-48f6-ad87-4660fad564df",
   "metadata": {},
   "outputs": [],
   "source": [
    "# Utiliza também a função array()\n",
    "\n",
    "array_1 = np.array([[1, 2, 3], [4, 5, 6]])"
   ]
  },
  {
   "cell_type": "code",
   "execution_count": 7,
   "id": "a8ab302d-2cab-4761-8fbe-3c848631379b",
   "metadata": {},
   "outputs": [
    {
     "name": "stdout",
     "output_type": "stream",
     "text": [
      "[[1 2 3]\n",
      " [4 5 6]]\n"
     ]
    }
   ],
   "source": [
    "print(array_1)"
   ]
  },
  {
   "cell_type": "code",
   "execution_count": 10,
   "id": "cd5d88d7-100c-4ce4-a706-8c344b5f4dd9",
   "metadata": {},
   "outputs": [
    {
     "name": "stdout",
     "output_type": "stream",
     "text": [
      "[[1 2 3 7]\n",
      " [4 5 6 9]]\n"
     ]
    }
   ],
   "source": [
    "array_teste = np.array([[2,1,7,3], [5,6,4,9]])\n",
    "print(np.sort(array_teste))\n"
   ]
  },
  {
   "cell_type": "markdown",
   "id": "88d1c31d-17be-4881-a80a-71f18bf64229",
   "metadata": {},
   "source": [
    "## Acessando elementos do array de 2 dimensão "
   ]
  },
  {
   "cell_type": "code",
   "execution_count": 12,
   "id": "69860019-35ba-4546-8681-ebbc05a3f8b3",
   "metadata": {},
   "outputs": [
    {
     "name": "stdout",
     "output_type": "stream",
     "text": [
      "5\n"
     ]
    }
   ],
   "source": [
    "# Sempre na sequência: Linha X coluna. Se usa colchetes []\n",
    "\n",
    "print(array_1[1][1])"
   ]
  },
  {
   "cell_type": "code",
   "execution_count": 13,
   "id": "76605c9b-03f3-4343-9922-24b9c5411ae5",
   "metadata": {},
   "outputs": [
    {
     "name": "stdout",
     "output_type": "stream",
     "text": [
      "3\n"
     ]
    }
   ],
   "source": [
    "print(array_1[0][2])"
   ]
  },
  {
   "cell_type": "code",
   "execution_count": 17,
   "id": "0c92b597-f9ec-46ff-8dbc-4e335f85b575",
   "metadata": {},
   "outputs": [
    {
     "name": "stdout",
     "output_type": "stream",
     "text": [
      "30\n"
     ]
    }
   ],
   "source": [
    "# linha 0; coluna 1\n",
    "\n",
    "print(array_1[0,1])"
   ]
  },
  {
   "cell_type": "code",
   "execution_count": 15,
   "id": "f3aac05e-111b-4b28-8623-482b1f0bd7f5",
   "metadata": {},
   "outputs": [
    {
     "name": "stdout",
     "output_type": "stream",
     "text": [
      "[[ 1 30  3]\n",
      " [ 4  5  6]]\n"
     ]
    }
   ],
   "source": [
    "# Para substituir um valor se utiliza colchetes também\n",
    "\n",
    "array_1[0][1] = 30\n",
    "print(array_1)"
   ]
  },
  {
   "cell_type": "code",
   "execution_count": 16,
   "id": "27a983fd-17ad-44ae-9638-9581104a41dd",
   "metadata": {},
   "outputs": [
    {
     "name": "stdout",
     "output_type": "stream",
     "text": [
      "[[ 1 30  3]\n",
      " [15  5  6]]\n"
     ]
    }
   ],
   "source": [
    "array_1[1,0] = 15\n",
    "print(array_1)"
   ]
  },
  {
   "cell_type": "markdown",
   "id": "e379c0cd-b2b3-49b9-9ed7-b61c15a725c9",
   "metadata": {},
   "source": [
    "## Propriedades para 2darray "
   ]
  },
  {
   "cell_type": "code",
   "execution_count": 18,
   "id": "bd9cff0c-9f34-400c-809e-dbee02046550",
   "metadata": {},
   "outputs": [
    {
     "name": "stdout",
     "output_type": "stream",
     "text": [
      "(2, 3)\n"
     ]
    }
   ],
   "source": [
    "# shape - retorna a quantidade de elementos por dimensão \n",
    "\n",
    "print(array_1.shape)"
   ]
  },
  {
   "cell_type": "code",
   "execution_count": 19,
   "id": "af074667-a0b2-4351-a066-12cc4c12d62f",
   "metadata": {},
   "outputs": [
    {
     "name": "stdout",
     "output_type": "stream",
     "text": [
      "(5,)\n"
     ]
    }
   ],
   "source": [
    "array_teste = np.array([2,5,6,7,8])\n",
    "print(array_teste.shape)"
   ]
  },
  {
   "cell_type": "code",
   "execution_count": 20,
   "id": "55774aef-4fd2-46d6-9e1f-86b8a910d904",
   "metadata": {},
   "outputs": [
    {
     "name": "stdout",
     "output_type": "stream",
     "text": [
      "6\n"
     ]
    }
   ],
   "source": [
    "# size - quantidade total de elementos no array \n",
    "\n",
    "print(array_1.size)"
   ]
  },
  {
   "cell_type": "code",
   "execution_count": 21,
   "id": "737cf63f-85f0-4f30-b7ac-78ac0c0d3e15",
   "metadata": {},
   "outputs": [
    {
     "name": "stdout",
     "output_type": "stream",
     "text": [
      "2\n"
     ]
    }
   ],
   "source": [
    "# ndim - retorna a dimensão do array \n",
    "\n",
    "print(array_1.ndim)"
   ]
  },
  {
   "cell_type": "markdown",
   "id": "f4dd7f6e-7657-40a9-b026-d3b53c186a8e",
   "metadata": {},
   "source": [
    "## Funções para 2darray"
   ]
  },
  {
   "cell_type": "code",
   "execution_count": 23,
   "id": "f711b6b5-9e2f-497e-8350-d5124c2b6678",
   "metadata": {},
   "outputs": [
    {
     "name": "stdout",
     "output_type": "stream",
     "text": [
      "[ 1 31 34 49 54 60]\n"
     ]
    }
   ],
   "source": [
    "# consum() - soma acumulada\n",
    "\n",
    "print(array_1.cumsum())"
   ]
  },
  {
   "cell_type": "code",
   "execution_count": 26,
   "id": "91d22b97-936a-4477-a792-1f99f192c446",
   "metadata": {},
   "outputs": [
    {
     "name": "stdout",
     "output_type": "stream",
     "text": [
      "[[1 2 3]\n",
      " [4 5 6]]\n"
     ]
    }
   ],
   "source": [
    "# reshape - modifica a dimensão do array \n",
    "\n",
    "array_d1 = np.array([1,2,3,4,5,6])\n",
    "array_2 = (array_d1.reshape(2,3))\n",
    "print(array_2)"
   ]
  },
  {
   "cell_type": "code",
   "execution_count": 27,
   "id": "d2dc1afc-5ded-44c8-95b1-1bb618600c02",
   "metadata": {},
   "outputs": [
    {
     "name": "stdout",
     "output_type": "stream",
     "text": [
      "[[ 1 31 34]\n",
      " [49 54 60]]\n"
     ]
    }
   ],
   "source": [
    "''' a função cumsum gera um array de 1 dimensão. No exemplo a seguir,\n",
    "foi acumulado com a função reshape(), \n",
    "que é executada em seguida gerando novamente o array de duas dimensões.\n",
    "'''\n",
    "\n",
    "print(array_1.cumsum().reshape(2,3))"
   ]
  },
  {
   "cell_type": "code",
   "execution_count": 32,
   "id": "d2f20f7a-0acf-4f19-ad7e-f05f205f1a27",
   "metadata": {},
   "outputs": [
    {
     "name": "stdout",
     "output_type": "stream",
     "text": [
      "(2, 3)\n"
     ]
    }
   ],
   "source": [
    "print(array_1.cumsum().reshape(2,3).shape)"
   ]
  },
  {
   "cell_type": "code",
   "execution_count": 36,
   "id": "c352404c-c476-4793-8005-246dd598bcbc",
   "metadata": {},
   "outputs": [
    {
     "name": "stdout",
     "output_type": "stream",
     "text": [
      "[[ 1  2]\n",
      " [ 3  4]\n",
      " [ 5  6]\n",
      " [ 7  8]\n",
      " [ 9 10]]\n"
     ]
    }
   ],
   "source": [
    "array_3 = np.array(range(1,11)).reshape(5,2)\n",
    "print(array_3)"
   ]
  },
  {
   "cell_type": "code",
   "execution_count": null,
   "id": "f52e0e27-cc51-434c-b6f6-bae8c96604e5",
   "metadata": {},
   "outputs": [],
   "source": []
  }
 ],
 "metadata": {
  "kernelspec": {
   "display_name": "Python 3 (ipykernel)",
   "language": "python",
   "name": "python3"
  },
  "language_info": {
   "codemirror_mode": {
    "name": "ipython",
    "version": 3
   },
   "file_extension": ".py",
   "mimetype": "text/x-python",
   "name": "python",
   "nbconvert_exporter": "python",
   "pygments_lexer": "ipython3",
   "version": "3.10.8"
  }
 },
 "nbformat": 4,
 "nbformat_minor": 5
}
