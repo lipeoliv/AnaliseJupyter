{
 "cells": [
  {
   "cell_type": "code",
   "execution_count": 1,
   "id": "46e0cd22-de2a-42aa-9efe-f986806789f2",
   "metadata": {},
   "outputs": [
    {
     "name": "stdout",
     "output_type": "stream",
     "text": [
      "Hello Word\n"
     ]
    }
   ],
   "source": [
    "print(\"Hello Word\")"
   ]
  },
  {
   "cell_type": "markdown",
   "id": "9cca8c9c-8392-4f7a-99f9-d9477450e12a",
   "metadata": {},
   "source": [
    "python é uma linguagem fracamente tipada, no caso não preciso informar o tipo da variável."
   ]
  },
  {
   "cell_type": "code",
   "execution_count": 2,
   "id": "10309174-8814-4348-aa80-2f5e130c1b85",
   "metadata": {},
   "outputs": [
    {
     "name": "stdout",
     "output_type": "stream",
     "text": [
      "30\n"
     ]
    }
   ],
   "source": [
    "idade = 30 \n",
    "print(idade)\n"
   ]
  },
  {
   "cell_type": "code",
   "execution_count": 3,
   "id": "a7d33382-1af3-4bfb-b1f7-eef300462383",
   "metadata": {},
   "outputs": [
    {
     "data": {
      "text/plain": [
       "'\\ncomentário em várias linhas\\n'"
      ]
     },
     "execution_count": 3,
     "metadata": {},
     "output_type": "execute_result"
    }
   ],
   "source": [
    "#comentário em 1 linha \n",
    "\n",
    "\n",
    "'''\n",
    "comentário em várias linhas\n",
    "'''\n",
    "\n",
    "\"\"\"\n",
    "comentário em várias linhas\n",
    "\"\"\""
   ]
  }
 ],
 "metadata": {
  "kernelspec": {
   "display_name": "Python 3 (ipykernel)",
   "language": "python",
   "name": "python3"
  },
  "language_info": {
   "codemirror_mode": {
    "name": "ipython",
    "version": 3
   },
   "file_extension": ".py",
   "mimetype": "text/x-python",
   "name": "python",
   "nbconvert_exporter": "python",
   "pygments_lexer": "ipython3",
   "version": "3.10.8"
  }
 },
 "nbformat": 4,
 "nbformat_minor": 5
}
